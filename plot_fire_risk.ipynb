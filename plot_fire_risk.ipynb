{
 "metadata": {
  "name": ""
 },
 "nbformat": 3,
 "nbformat_minor": 0,
 "worksheets": [
  {
   "cells": [
    {
     "cell_type": "code",
     "collapsed": false,
     "input": [
      "from snowpack_functions import make_map, mesh_gridify, unpack_netcdf_file_var\n",
      "import numpy as np\n",
      "import pandas as pd\n",
      "import os\n",
      "## do all basins in one. \n",
      "## one figure: fire risk in all five basins \n",
      "## each figure: 1970-1999, 2010-2039, 2040-2069,2070-2099 (1 x 4) "
     ],
     "language": "python",
     "metadata": {},
     "outputs": []
    }
   ],
   "metadata": {}
  }
 ]
}