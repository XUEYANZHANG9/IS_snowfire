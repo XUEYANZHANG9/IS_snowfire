{
 "cells": [
  {
   "cell_type": "code",
   "execution_count": null,
   "metadata": {
    "collapsed": false
   },
   "outputs": [
    {
     "name": "stderr",
     "output_type": "stream",
     "text": [
      "/usr/local/anaconda/lib/python2.7/site-packages/matplotlib/font_manager.py:273: UserWarning: Matplotlib is building the font cache using fc-list. This may take a moment.\n",
      "  warnings.warn('Matplotlib is building the font cache using fc-list. This may take a moment.')\n"
     ]
    }
   ],
   "source": [
    "%matplotlib inline \n",
    "import numpy as np\n",
    "import xray\n",
    "from xray import ufuncs\n",
    "import os\n",
    "import math \n",
    "import gc \n",
    "import pandas as pd \n",
    "import matplotlib.pyplot as plt"
   ]
  },
  {
   "cell_type": "code",
   "execution_count": null,
   "metadata": {
    "collapsed": false
   },
   "outputs": [],
   "source": [
    "################################# INPUTS #############################\n",
    "lat = 48.03125\n",
    "lon = -121.28125\n",
    "######################################################################\n",
    "\n",
    "direc = '/raid/gergel/dfm_ui_metdata'\n",
    "tmin_file1 = \"tmmn_%s.nc\" % \"1981\"\n",
    "tmin_file2 = \"tmmn_%s.nc\" % \"1982\"\n",
    "tmin_full1 = xray.open_dataset(os.path.join(direc,tmin_file1)) ## load tmin\n",
    "tmin_full2 = xray.open_dataset(os.path.join(direc,tmin_file2)) ## load tmin\n",
    "tmin_full = xray.concat([tmin_full1, tmin_full2], dim='day')\n",
    "\n",
    "tmax_file1 = \"tmmx_%s.nc\" % \"1981\"\n",
    "tmax_file2 = \"tmmx_%s.nc\" % \"1982\"\n",
    "tmax_full1 = xray.open_dataset(os.path.join(direc,tmax_file1)) ## load tmax\n",
    "tmax_full2 = xray.open_dataset(os.path.join(direc,tmax_file2)) ## load tmax\n",
    "tmax_full = xray.concat([tmax_full1,tmax_full2], dim='day')\n",
    "\n",
    "rhmin_file1 = \"rmin_%s.nc\" % \"1981\"\n",
    "rhmin_file2 = \"rmin_%s.nc\" % \"1982\"\n",
    "rhmin_full1 = xray.open_dataset(os.path.join(direc,rhmin_file1)) ## load rhmin\n",
    "rhmin_full2 = xray.open_dataset(os.path.join(direc,rhmin_file2)) \n",
    "rhmin_full = xray.concat([rhmin_full1,rhmin_full2], dim='day')\n",
    "\n",
    "rhmax_file1 = \"rmax_%s.nc\" % \"1981\"\n",
    "rhmax_file2 = \"rmax_%s.nc\" % \"1982\"\n",
    "rhmax_full1 = xray.open_dataset(os.path.join(direc,rhmax_file1)) ## load rhmin\n",
    "rhmax_full2 = xray.open_dataset(os.path.join(direc,rhmax_file2)) \n",
    "rhmax_full = xray.concat([rhmax_full1,rhmax_full2], dim='day')\n",
    "\n",
    "q_file1 = \"sph_%s.nc\" % \"1981\"\n",
    "q_file2 = \"sph_%s.nc\" % \"1982\"\n",
    "q_full1 = xray.open_dataset(os.path.join(direc,q_file1)) \n",
    "q_full2 = xray.open_dataset(os.path.join(direc,q_file2)) ## load specific humidity\n",
    "q_full = xray.concat([q_full1,q_full2], dim='day')\n",
    "\n",
    "pr_file1 = \"pr_%s.nc\" % \"1981\"\n",
    "pr_file2 = \"pr_%s.nc\" % \"1982\"\n",
    "pr_full1 = xray.open_dataset(os.path.join(direc,pr_file1)) \n",
    "pr_full2 = xray.open_dataset(os.path.join(direc,pr_file2)) ## load precip\n",
    "pr_full = xray.concat([pr_full1,pr_full2], dim='day')\n",
    "\n",
    "## select out gridcell \n",
    "\n",
    "lon_ind = np.argmin(np.abs(pr_full.lon - lon))\n",
    "lat_ind = np.argmin(np.abs(pr_full.lat - lat))\n",
    "\n",
    "## get julian days \n",
    "julians = pd.DatetimeIndex(np.asarray(pr_full.day)).dayofyear\n",
    "\n",
    "# tmin = tmin_full[:,lat_ind,lon_ind]\n",
    "tmin = tmin_full.isel_points(lon=[lon_ind],lat=[lat_ind])['air_temperature'].values[0,:]\n",
    "tmax = tmax_full.isel_points(lon=[lon_ind],lat=[lat_ind])['air_temperature'].values[0,:]\n",
    "q = q_full.isel_points(lon=[lon_ind],lat=[lat_ind])\n",
    "pptamt = pr_full.isel_points(lon=[lon_ind],lat=[lat_ind])\n",
    "rhmin = rhmin_full.isel_points(lon=[lon_ind],lat=[lat_ind])['relative_humidity'].values[0,:]\n",
    "rhmax = rhmax_full.isel_points(lon=[lon_ind],lat=[lat_ind])['relative_humidity'].values[0,:]\n",
    "\n",
    "del tmin_full,tmax_full, q_full,pr_full,rhmin_full,rhmax_full\n",
    "gc.collect() "
   ]
  },
  {
   "cell_type": "code",
   "execution_count": null,
   "metadata": {
    "collapsed": false
   },
   "outputs": [],
   "source": [
    "def calc_fm100_fm1000(pptdur,maxrh,minrh,maxt,mint,lat,tmois,bv,julians,ymc100): \n",
    "    \"\"\"this subroutine computes the average boundary conditions for the past \n",
    "    24 hour and 100-hr-tl fuel moisture. The boundary conditions are weighted averages \n",
    "    of the EQMCs calculated from the temp and RH values. Philab is used to calculate \n",
    "    daylength which is the basis of the weighting function.\"\"\" \n",
    "\n",
    "    emc1 = 0\n",
    "    emc2 = 0\n",
    "    emc = 0\n",
    "    bndry1 = 0\n",
    "    bndry = 0\n",
    "    bvave = 0\n",
    "    daylit = 0\n",
    "    ambvp = 0\n",
    "    fr100 = 0.3156\n",
    "\n",
    "    '''# daylit = calcDaylight(j_date,lat) ########## need to write this function \n",
    "    #######################\n",
    "    phi = lat * 0.01745 ## lat is in degrees \n",
    "    decl = 0.41008*np.sin(np.deg2rad((julians-82) * 0.01745))\n",
    "    daylit = 24 * (1.0 - ((np.arccos(np.tan(np.deg2rad(phi)) * np.tan(np.deg2rad(decl))) / math.pi)))'''\n",
    "    #######################\n",
    "    \n",
    "    ## John's calcDaylight function\n",
    "    if julians > 365:\n",
    "        julians = 365\n",
    "    phi = lat * 0.01745 ## converts latitude to radians\n",
    "    decl = .41008*np.sin((julians-82)*0.01745)\n",
    "    daylit = 24.0*(1-np.arccos(np.tan(phi)*np.tan(decl))/3.14159)\n",
    "    daylit = daylit.real\n",
    "    \n",
    "    #emc1 = np.ndarray(shape=(len(maxrh)),dtype='float')\n",
    "    if minrh <= 10:\n",
    "        emc1= 0.03229 + 0.281073 * minrh - 0.000578 * minrh* maxt\n",
    "    elif minrh > 10 and minrh <= 50: \n",
    "        emc1 = 2.22749 + 0.160107 * minrh - 0.014784 * maxt\n",
    "    else: \n",
    "        emc1 = 21.0606 + 0.005565 * (minrh**2) - 0.00035 * minrh * maxt - 0.483199 * minrh\n",
    "\n",
    "    #emc2 = np.ndarray(shape=(len(maxrh)),dtype='float')\n",
    "    if maxrh <= 10:\n",
    "        emc2 = 0.03229 + 0.281073 * maxrh - 0.000578 * maxrh* mint\n",
    "    elif maxrh > 10 and maxrh <= 50: \n",
    "        emc2 = 2.22749 + 0.160107 * maxrh - 0.014784 * mint\n",
    "    else: \n",
    "        emc2 = 21.0606 + 0.005565 * (maxrh**2) - 0.00035 * maxrh * mint - 0.483199 * maxrh\n",
    "\n",
    "    '''phours = np.ndarray(shape=(len(maxrh)),dtype='float')\n",
    "    for day in np.arange(len(minrh)):\n",
    "        if pptamt[day] > 0 and pptdur >= 0 and climcl < 3:\n",
    "            phours[day] = ((pptamt[day]/0.25) + 0.4999) + 0.5 \n",
    "        elif pptamt[day] > 0 and pptdur >= 0 and climcl >= 3:\n",
    "            phours[day] = ((pptamt[day]/0.05) + 0.4999) + 0.5 \n",
    "        elif pptamt[day]\n",
    "    '''\n",
    "    ## qc maxrh \n",
    "    # for day in np.arange(len(emc1)):\n",
    "    if np.isnan(maxrh):\n",
    "        emc1 = np.nan\n",
    "        emc2 = np.nan \n",
    "\n",
    "    emc = (daylit *emc1 + (24.0 - daylit) * emc2) / 24.0 \n",
    "\n",
    "    ## qc precip duration \n",
    "    # for day in np.arange(len(pptdur)):\n",
    "    if pptdur < 0:\n",
    "        pptdur = 0\n",
    "    '''elif pptdur > 8:\n",
    "        pptdur = 8'''\n",
    "\n",
    "    bndry1 = ((24 - pptdur) * emc + (0.5 * pptdur + 41) * pptdur) / 24.0 \n",
    "    fm100 = (bndry1 - ymc100) * fr100 + ymc100 \n",
    "    ## calculate 1000-hr fuel moisture daily using average of boundary conditions for\n",
    "    ## past seven days. starting value set by climate type. \n",
    "\n",
    "    fr1 = 0.3068\n",
    "\n",
    "    bvave = 0\n",
    "\n",
    "    ## accumulate a 6-day total\n",
    "    for i in np.arange(0,6):\n",
    "        bv[:,i] = bv[:,i+1]\n",
    "        bvave = bvave + bv[:,i]\n",
    "\n",
    "    bndry = ((24 - pptdur) * emc + (2.7 * pptdur + 76) * pptdur) / 24.0 \n",
    "    bv[:,6] = bndry\n",
    "\n",
    "    ## add today's boundary from subfm100, divide by 7 days \n",
    "    bvave = (bvave + bndry) / 7.0 \n",
    "\n",
    "    ## calculate today's 1000 hr fuel moisture \n",
    "    fm1000 = tmois[:,1] + (bvave - tmois[:,1])*fr1 \n",
    "\n",
    "    ## move each days 1000 hr down one, drop the oldest \n",
    "    for i in np.arange(0,6):\n",
    "        tmois[:,i] = tmois[:,i+1] \n",
    "    tmois[:,6] = fm1000 \n",
    "\n",
    "    return(tmois,fm1000,fm100,bv)"
   ]
  },
  {
   "cell_type": "code",
   "execution_count": null,
   "metadata": {
    "collapsed": false
   },
   "outputs": [],
   "source": [
    "direc = '/raid/gergel'\n",
    "pdur_file = 'pduration.nc'\n",
    "pdur_full = xray.open_dataset(os.path.join(direc,pdur_file)) ## pdur beta parameter for John's transform from Matt Jolly\n",
    "## select out gridcell for pdur b parameter\n",
    "lon_ind_1 = np.argmin(np.abs(pdur_full.lon - lon))\n",
    "lat_ind_1 = np.argmin(np.abs(pdur_full.lat - lat))\n",
    "beta = pdur_full.isel_points(lon=[lon_ind_1],lat=[lat_ind_1])\n",
    "\n",
    "pptamt_in = pptamt * 0.0393701 ## convert from mm to inches \n",
    "pptdur_calc_df = pptamt_in['precipitation_amount'].to_series().map(lambda x: int(24 * (1 - np.exp(-beta['pdur']*x))) \n",
    "                                                            if (x > 0) else 0) \n",
    "pptdur = xray.DataArray.from_series(pptdur_calc_df).to_dataset()['precipitation_amount'].values[0,:]"
   ]
  },
  {
   "cell_type": "code",
   "execution_count": null,
   "metadata": {
    "collapsed": false
   },
   "outputs": [],
   "source": [
    "x = 1\n",
    "\n",
    "tmois=np.zeros(shape=(x,7))\n",
    "bv=np.zeros(shape=(x,7))\n",
    "ymc=np.zeros(shape=(x,1))\n",
    "ndays = len(rhmax)\n",
    "\n",
    "fm1000 = np.ndarray(shape=(x,ndays),dtype='float')\n",
    "fm100 = np.ndarray(shape=(x,ndays),dtype='float')\n",
    "\n",
    "for day in np.arange(ndays):\n",
    "    tmois,fm1000[:,day],fm100[:,day],bv = calc_fm100_fm1000(pptdur[day],rhmax[day],rhmin[day],tmax[day],tmin[day],\n",
    "                                                            lat,tmois,bv,julians[day],ymc)\n",
    "    # tmois,fm1000[:,day],fm100[:,day],bv=calc_fm100_fm1000(pptdur,rhmax,rhmin,tmax,tmin,lat,tmois,bv,julians,ymc)\n",
    "    ymc=fm100[:,day]\n"
   ]
  },
  {
   "cell_type": "code",
   "execution_count": null,
   "metadata": {
    "collapsed": true
   },
   "outputs": [],
   "source": [
    "lat = 48.03125\n",
    "lon = -121.28125\n",
    "\n",
    "direc = '/raid/gergel/dfm_ui_metdata' \n",
    "file = \"fm100_1981.nc\" \n",
    "ds = xray.open_dataset(os.path.join(direc,file)) \n",
    "\n",
    "file2 = \"fm100_1982.nc\" \n",
    "ds2 = xray.open_dataset(os.path.join(direc,file2))\n",
    "                        \n",
    "## concatenate netcdf files \n",
    "ds_full = xray.concat([ds, ds2], dim='day')"
   ]
  },
  {
   "cell_type": "code",
   "execution_count": null,
   "metadata": {
    "collapsed": false
   },
   "outputs": [],
   "source": [
    "import datetime as dt\n",
    "import matplotlib.pyplot as plt\n",
    "tp_start = dt.datetime(1981,10,1)\n",
    "tp_end = dt.datetime(1982,10,1)\n",
    "\n",
    "\n",
    "ui_start = dt.datetime(1980,12,31)\n",
    "ui_end = dt.datetime(1982,12,31)\n",
    "arr_ui = [ui_start + dt.timedelta(days=i) for i in range(0, (ui_end-ui_start).days)]\n",
    "dates_ui = np.asarray(arr_ui)\n",
    "\n",
    "\n",
    "'''plt.plot(date_range,np.asarray(arr_mc100)[(arr_datess >= tp_start) * (arr_datess < tp_end)],color='r',\n",
    "         label='NFDRS/IS Data',linewidth=lw)'''"
   ]
  },
  {
   "cell_type": "code",
   "execution_count": null,
   "metadata": {
    "collapsed": false
   },
   "outputs": [],
   "source": [
    "%matplotlib inline \n",
    "import matplotlib.pyplot as plt\n",
    "\n",
    "tp_start = dt.datetime(1981,10,1)\n",
    "tp_end = dt.datetime(1982,10,1)\n",
    "date_range = [tp_start + dt.timedelta(days=i) for i in range(0, (tp_end-tp_start).days)]\n",
    "\n",
    "lw = 3.0\n",
    "lt = 10\n",
    "rt = 7\n",
    "\n",
    "fig = plt.figure(figsize=(lt,rt))\n",
    "\n",
    "lon_ind = np.argmin(np.abs(ds.lon - lon))\n",
    "lat_ind = np.argmin(np.abs(ds.lat - lat))\n",
    "\n",
    "dfm = ds_full.isel_points(lon=[lon_ind],lat=[lat_ind])\n",
    "dfm_sel = dfm.sel(day=slice('1981-10-01', '1982-9-30'))\n",
    "dfm_sel['dead_fuel_moistue_100hr'].plot(label='UI MetData DFM',linewidth=lw)\n",
    "\n",
    "plt.plot(date_range,fm100[0,:][(dates_ui >= tp_start) * (dates_ui < tp_end)],linewidth=lw,color='r',\n",
    "         label='DFM algorithm')\n",
    "plt.legend()"
   ]
  },
  {
   "cell_type": "code",
   "execution_count": null,
   "metadata": {
    "collapsed": false
   },
   "outputs": [],
   "source": [
    "# print(dfm_sel['dead_fuel_moistue_100hr'][0,0])\n",
    "# print(fm100[:,ndays-1][(dates_ui >= tp_start) * (dates_ui < tp_end)][0])\n",
    "np.corrcoef(dfm_sel['dead_fuel_moistue_100hr'][0,:],fm100[0,:][(dates_ui >= tp_start) * (dates_ui < tp_end)])"
   ]
  },
  {
   "cell_type": "code",
   "execution_count": null,
   "metadata": {
    "collapsed": false
   },
   "outputs": [],
   "source": [
    "fm100[0,:][(dates_ui >= tp_start) * (dates_ui < tp_end)]\n",
    "# dfm_sel['dead_fuel_moistue_100hr']"
   ]
  },
  {
   "cell_type": "code",
   "execution_count": null,
   "metadata": {
    "collapsed": true
   },
   "outputs": [],
   "source": []
  }
 ],
 "metadata": {
  "kernelspec": {
   "display_name": "Python 2",
   "language": "python",
   "name": "python2"
  },
  "language_info": {
   "codemirror_mode": {
    "name": "ipython",
    "version": 2
   },
   "file_extension": ".py",
   "mimetype": "text/x-python",
   "name": "python",
   "nbconvert_exporter": "python",
   "pygments_lexer": "ipython2",
   "version": "2.7.11"
  }
 },
 "nbformat": 4,
 "nbformat_minor": 0
}
