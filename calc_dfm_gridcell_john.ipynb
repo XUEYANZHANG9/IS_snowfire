{
 "cells": [
  {
   "cell_type": "code",
   "execution_count": 2,
   "metadata": {
    "collapsed": false
   },
   "outputs": [],
   "source": [
    "%matplotlib inline \n",
    "import numpy as np\n",
    "import xray\n",
    "from xarray import ufuncs\n",
    "import os\n",
    "import math \n",
    "import gc \n",
    "import pandas as pd \n",
    "import matplotlib.pyplot as plt"
   ]
  },
  {
   "cell_type": "markdown",
   "metadata": {},
   "source": [
    "IMPORT DATA FROM UI METDATA SITE"
   ]
  },
  {
   "cell_type": "code",
   "execution_count": 3,
   "metadata": {
    "collapsed": false
   },
   "outputs": [
    {
     "data": {
      "text/plain": [
       "310"
      ]
     },
     "execution_count": 3,
     "metadata": {},
     "output_type": "execute_result"
    }
   ],
   "source": [
    "################################# INPUTS #############################\n",
    "#lat = 48.03125\n",
    "lat = 48.021\n",
    "#lon = -121.28125\n",
    "lon = -121.25\n",
    "######################################################################\n",
    "\n",
    "direc = '/raid/gergel/dfm_ui_metdata'\n",
    "tmin_file1 = \"tmmn_%s.nc\" % \"1981\"\n",
    "tmin_file2 = \"tmmn_%s.nc\" % \"1982\"\n",
    "tmin_full1 = xray.open_dataset(os.path.join(direc,tmin_file1)) ## load tmin\n",
    "tmin_full2 = xray.open_dataset(os.path.join(direc,tmin_file2)) ## load tmin\n",
    "tmin_full = xray.concat([tmin_full1, tmin_full2], dim='day')\n",
    "\n",
    "tmax_file1 = \"tmmx_%s.nc\" % \"1981\"\n",
    "tmax_file2 = \"tmmx_%s.nc\" % \"1982\"\n",
    "tmax_full1 = xray.open_dataset(os.path.join(direc,tmax_file1)) ## load tmax\n",
    "tmax_full2 = xray.open_dataset(os.path.join(direc,tmax_file2)) ## load tmax\n",
    "tmax_full = xray.concat([tmax_full1,tmax_full2], dim='day')\n",
    "\n",
    "rhmin_file1 = \"rmin_%s.nc\" % \"1981\"\n",
    "rhmin_file2 = \"rmin_%s.nc\" % \"1982\"\n",
    "rhmin_full1 = xray.open_dataset(os.path.join(direc,rhmin_file1)) ## load rhmin\n",
    "rhmin_full2 = xray.open_dataset(os.path.join(direc,rhmin_file2)) \n",
    "rhmin_full = xray.concat([rhmin_full1,rhmin_full2], dim='day')\n",
    "\n",
    "rhmax_file1 = \"rmax_%s.nc\" % \"1981\"\n",
    "rhmax_file2 = \"rmax_%s.nc\" % \"1982\"\n",
    "rhmax_full1 = xray.open_dataset(os.path.join(direc,rhmax_file1)) ## load rhmin\n",
    "rhmax_full2 = xray.open_dataset(os.path.join(direc,rhmax_file2)) \n",
    "rhmax_full = xray.concat([rhmax_full1,rhmax_full2], dim='day')\n",
    "\n",
    "q_file1 = \"sph_%s.nc\" % \"1981\"\n",
    "q_file2 = \"sph_%s.nc\" % \"1982\"\n",
    "q_full1 = xray.open_dataset(os.path.join(direc,q_file1)) \n",
    "q_full2 = xray.open_dataset(os.path.join(direc,q_file2)) ## load specific humidity\n",
    "q_full = xray.concat([q_full1,q_full2], dim='day')\n",
    "\n",
    "pr_file1 = \"pr_%s.nc\" % \"1981\"\n",
    "pr_file2 = \"pr_%s.nc\" % \"1982\"\n",
    "pr_full1 = xray.open_dataset(os.path.join(direc,pr_file1)) \n",
    "pr_full2 = xray.open_dataset(os.path.join(direc,pr_file2)) ## load precip\n",
    "pr_full = xray.concat([pr_full1,pr_full2], dim='day')\n",
    "\n",
    "## select out gridcell \n",
    "\n",
    "lon_ind = np.argmin(np.abs(pr_full.lon - lon))\n",
    "lat_ind = np.argmin(np.abs(pr_full.lat - lat))\n",
    "\n",
    "## get julian days \n",
    "julians = pd.DatetimeIndex(np.asarray(pr_full.day)).dayofyear\n",
    "\n",
    "# tmin = tmin_full[:,lat_ind,lon_ind]\n",
    "tmin = tmin_full.isel_points(lon=[lon_ind],lat=[lat_ind])['air_temperature'].values[0,:]\n",
    "tmax = tmax_full.isel_points(lon=[lon_ind],lat=[lat_ind])['air_temperature'].values[0,:]\n",
    "q = q_full.isel_points(lon=[lon_ind],lat=[lat_ind])\n",
    "pptamt = pr_full.isel_points(lon=[lon_ind],lat=[lat_ind])\n",
    "rhmin = rhmin_full.isel_points(lon=[lon_ind],lat=[lat_ind])['relative_humidity'].values[0,:]\n",
    "rhmax = rhmax_full.isel_points(lon=[lon_ind],lat=[lat_ind])['relative_humidity'].values[0,:]\n",
    "\n",
    "del tmax_full, q_full,pr_full,rhmin_full,rhmax_full\n",
    "gc.collect() "
   ]
  },
  {
   "cell_type": "markdown",
   "metadata": {},
   "source": [
    "100-hr and 1000-hr DFM FUNCTION "
   ]
  },
  {
   "cell_type": "code",
   "execution_count": 4,
   "metadata": {
    "collapsed": false
   },
   "outputs": [],
   "source": [
    "def calc_fm100_fm1000(pptdur,maxrh,minrh,maxt,mint,lat,tmois,bv,julians,ymc100): \n",
    "    \"\"\"this subroutine computes the average boundary conditions for the past \n",
    "    24 hour and 100-hr-tl fuel moisture. The boundary conditions are weighted averages \n",
    "    of the EQMCs calculated from the temp and RH values. Philab is used to calculate \n",
    "    daylength which is the basis of the weighting function.\"\"\" \n",
    "\n",
    "    emc1 = 0\n",
    "    emc2 = 0\n",
    "    emc = 0\n",
    "    bndry1 = 0\n",
    "    bndry = 0\n",
    "    bvave = 0\n",
    "    daylit = 0\n",
    "    ambvp = 0\n",
    "    fr100 = 0.3156\n",
    "\n",
    "    '''# daylit = calcDaylight(j_date,lat) ########## need to write this function \n",
    "    #######################\n",
    "    phi = lat * 0.01745 ## lat is in degrees \n",
    "    decl = 0.41008*np.sin(np.deg2rad((julians-82) * 0.01745))\n",
    "    daylit = 24 * (1.0 - ((np.arccos(np.tan(np.deg2rad(phi)) * np.tan(np.deg2rad(decl))) / math.pi)))'''\n",
    "    #######################\n",
    "    \n",
    "    ## John's calcDaylight function\n",
    "    if julians > 365:\n",
    "        julians = 365\n",
    "    phi = lat * 0.01745 ## converts latitude to radians\n",
    "    decl = .41008*np.sin((julians-82)*0.01745)\n",
    "    daylit = 24.0*(1-np.arccos(np.tan(phi)*np.tan(decl))/3.14159)\n",
    "    daylit = daylit.real\n",
    "    \n",
    "    #emc1 = np.ndarray(shape=(len(maxrh)),dtype='float')\n",
    "    if minrh <= 10:\n",
    "        emc1= 0.03229 + (0.281073 * minrh) - (0.000578 * minrh * maxt)\n",
    "    elif minrh > 10 and minrh <= 50: \n",
    "        emc1 = 2.22749 + (0.160107 * minrh) - (0.014784 * maxt)\n",
    "    else: \n",
    "        emc1 = 21.0606 + (0.005565 * (minrh**2)) - (0.00035 * minrh * maxt) - (0.483199 * minrh)\n",
    "\n",
    "    #emc2 = np.ndarray(shape=(len(maxrh)),dtype='float')\n",
    "    if maxrh <= 10:\n",
    "        emc2 = 0.03229 + (0.281073 * maxrh) - (0.000578 * maxrh* mint)\n",
    "    elif maxrh > 10 and maxrh <= 50: \n",
    "        emc2 = 2.22749 + (0.160107 * maxrh) - (0.014784 * mint)\n",
    "    else: \n",
    "        emc2 = 21.0606 + (0.005565 * (maxrh**2)) - (0.00035 * maxrh * mint) - (0.483199 * maxrh)\n",
    "\n",
    "    '''phours = np.ndarray(shape=(len(maxrh)),dtype='float')\n",
    "    for day in np.arange(len(minrh)):\n",
    "        if pptamt[day] > 0 and pptdur >= 0 and climcl < 3:\n",
    "            phours[day] = ((pptamt[day]/0.25) + 0.4999) + 0.5 \n",
    "        elif pptamt[day] > 0 and pptdur >= 0 and climcl >= 3:\n",
    "            phours[day] = ((pptamt[day]/0.05) + 0.4999) + 0.5 \n",
    "        elif pptamt[day]\n",
    "    '''\n",
    "    \n",
    "    '''if pptamt > 0:\n",
    "        pptdur = ((pptamt/0.05) + 0.4999) + 0.5\n",
    "    else:\n",
    "        pptdur = 0'''\n",
    "    \n",
    "    ## qc maxrh \n",
    "    # for day in np.arange(len(emc1)):\n",
    "    if np.isnan(maxrh):\n",
    "        emc1 = np.nan\n",
    "        emc2 = np.nan \n",
    "\n",
    "    emc = (daylit * emc1 + (24.0 - daylit) * emc2) / 24.0 \n",
    "\n",
    "    ## qc precip duration \n",
    "    # for day in np.arange(len(pptdur)):\n",
    "    \n",
    "    # pptdur = pptdur*1.25\n",
    "    \n",
    "    if pptdur < 0:\n",
    "        pptdur = 0\n",
    "    elif pptdur > 8:\n",
    "        pptdur = 8\n",
    "        \n",
    "    bndry1 = ((24 - pptdur) * emc + (0.5 * pptdur + 41) * pptdur) / 24.0 \n",
    "    fm100 = ((bndry1 - ymc100) * fr100) + ymc100 \n",
    "    ## calculate 1000-hr fuel moisture daily using average of boundary conditions for\n",
    "    ## past seven days. starting value set by climate type. \n",
    "\n",
    "    fr1 = 0.3068\n",
    "\n",
    "    bvave = 0\n",
    "\n",
    "    ## accumulate a 6-day total\n",
    "    for i in np.arange(0,6):\n",
    "        bv[:,i] = bv[:,i+1]\n",
    "        bvave = bvave + bv[:,i]\n",
    "\n",
    "    bndry = ((24 - pptdur) * emc + (2.7 * pptdur + 76) * pptdur) / 24.0 \n",
    "    bv[:,6] = bndry\n",
    "\n",
    "    ## add today's boundary from subfm100, divide by 7 days \n",
    "    bvave = (bvave + bndry) / 7.0 \n",
    "\n",
    "    ## calculate today's 1000 hr fuel moisture \n",
    "    # fm1000 = tmois[:,1] + (bvave - tmois[:,1])*fr1 \n",
    "    fm1000 = tmois[:,0] + (bvave - tmois[:,0])*fr1\n",
    "\n",
    "    ## move each days 1000 hr down one, drop the oldest \n",
    "    for i in np.arange(0,6):\n",
    "        tmois[:,i] = tmois[:,i+1] \n",
    "    tmois[:,6] = fm1000 \n",
    "\n",
    "    return(tmois,fm1000,fm100,bv)"
   ]
  },
  {
   "cell_type": "markdown",
   "metadata": {},
   "source": [
    "IMPORT BETA VALUES AND APPLY EMPIRICAL TRANSFORM "
   ]
  },
  {
   "cell_type": "code",
   "execution_count": 5,
   "metadata": {
    "collapsed": false
   },
   "outputs": [],
   "source": [
    "direc = '/raid/gergel'\n",
    "pdur_file = 'pduration.nc'\n",
    "pdur_full = xray.open_dataset(os.path.join(direc,pdur_file)) ## pdur beta parameter for John's transform from Matt Jolly\n",
    "## select out gridcell for pdur b parameter\n",
    "lon_ind_1 = np.argmin(np.abs(pdur_full.lon - lon))\n",
    "lat_ind_1 = np.argmin(np.abs(pdur_full.lat - lat))\n",
    "beta = pdur_full.isel_points(lon=[lon_ind_1],lat=[lat_ind_1])\n",
    "#beta = 5.6\n",
    "\n",
    "pptamt_in = pptamt * 0.0393701 ## convert from mm to inches \n",
    "pptdur_calc_df = pptamt_in['precipitation_amount'].to_series().map(lambda x: int(24 * (1 - (np.exp(-beta['pdur']*x)))) \n",
    "                                                            if (x > 0) else 0) \n",
    "pptdur = xray.DataArray.from_series(pptdur_calc_df).to_dataset()['precipitation_amount'].values[0,:]"
   ]
  },
  {
   "cell_type": "markdown",
   "metadata": {},
   "source": [
    "ITERATE AND CALCULATE 100-HR AND 1000-HR DFM"
   ]
  },
  {
   "cell_type": "code",
   "execution_count": 6,
   "metadata": {
    "collapsed": false
   },
   "outputs": [],
   "source": [
    "x = 1\n",
    "import math \n",
    "\n",
    "tmois=np.zeros(shape=(x,7))\n",
    "bv=np.zeros(shape=(x,7))\n",
    "ymc=np.zeros(shape=(x,1))\n",
    "ndays = len(rhmax)\n",
    "\n",
    "fm1000 = np.ndarray(shape=(x,ndays),dtype='float')\n",
    "fm100 = np.ndarray(shape=(x,ndays),dtype='float')\n",
    "\n",
    "\n",
    "for day in np.arange(ndays):\n",
    "    # pptdur_day = int(24.0 * (1 - math.exp(-1*beta['pdur'].values[0]*pptamt_day))) ## to cross check pptdur calc above\n",
    "    tmois,fm1000[0,day],fm100[0,day],bv = calc_fm100_fm1000(pptdur[day],rhmax[day],rhmin[day],tmax[day],tmin[day],\n",
    "                                                            48,tmois,bv,julians[day],ymc)\n",
    "    ymc=fm100[0,day]\n"
   ]
  },
  {
   "cell_type": "markdown",
   "metadata": {},
   "source": [
    "IMPORT UI METDATA SITE DFM"
   ]
  },
  {
   "cell_type": "code",
   "execution_count": 7,
   "metadata": {
    "collapsed": true
   },
   "outputs": [],
   "source": [
    "direc = '/raid/gergel/dfm_ui_metdata' \n",
    "file = \"fm100_1981.nc\" \n",
    "ds = xray.open_dataset(os.path.join(direc,file)) \n",
    "\n",
    "file2 = \"fm100_1982.nc\" \n",
    "ds2 = xray.open_dataset(os.path.join(direc,file2))\n",
    "                        \n",
    "## concatenate netcdf files \n",
    "ds_full = xray.concat([ds, ds2], dim='day')"
   ]
  },
  {
   "cell_type": "code",
   "execution_count": 8,
   "metadata": {
    "collapsed": false
   },
   "outputs": [],
   "source": [
    "import datetime as dt\n",
    "import matplotlib.pyplot as plt\n",
    "tp_start = dt.datetime(1981,10,1)\n",
    "tp_end = dt.datetime(1982,10,1)\n",
    "\n",
    "\n",
    "ui_start = dt.datetime(1980,12,31)\n",
    "ui_end = dt.datetime(1982,12,31)\n",
    "arr_ui = [ui_start + dt.timedelta(days=i) for i in range(0, (ui_end-ui_start).days)]\n",
    "dates_ui = np.asarray(arr_ui)"
   ]
  },
  {
   "cell_type": "markdown",
   "metadata": {},
   "source": [
    "IMPORT DATA FROM JOHN "
   ]
  },
  {
   "cell_type": "code",
   "execution_count": 9,
   "metadata": {
    "collapsed": false
   },
   "outputs": [],
   "source": [
    "direc = '/raid/gergel'\n",
    "filename = 'diana_fm100_fm1000.csv'\n",
    "df = pd.read_csv(os.path.join(direc,filename))\n",
    "dss = xray.Dataset.from_dataframe(df)\n",
    "# ds_sel = ds.isel_points(lon=[lon_ind],lat=[lat_ind])\n",
    "# ds['year'].values = ds['year'].values.astype(str)\n",
    "# ds_sel = ds.loc[dict(year=slice(1981, 1982))]\n",
    "dss['year'][366+366+275]\n",
    "start = (2*366)+275\n",
    "end = (3*366)+275\n",
    "ds_sel = dss['fm100'][start:end]\n",
    "ds_time = dss['day'][start:end]\n",
    "bool_arr = np.ndarray(shape=(len(ds_sel)),dtype='bool')\n",
    "for i in np.arange(len(ds_sel)):\n",
    "    if ds_time[i] == 60:\n",
    "        bool_arr[i] = False\n",
    "    else:\n",
    "        bool_arr[i] = True\n",
    "dfm_john = ds_sel.squeeze()[bool_arr]\n",
    "dfm1000_john = dss['f1000'][start:end].squeeze()[bool_arr]"
   ]
  },
  {
   "cell_type": "markdown",
   "metadata": {},
   "source": [
    "PLOT AND COMPARE RESULTS"
   ]
  },
  {
   "cell_type": "code",
   "execution_count": 14,
   "metadata": {
    "collapsed": false
   },
   "outputs": [
    {
     "name": "stdout",
     "output_type": "stream",
     "text": [
      "saving figure to '/raid9/gergel/agg_snowpack/feb1_2'\n"
     ]
    },
    {
     "data": {
      "image/png": "[encoded data removed]",
      "text/plain": [
       "<matplotlib.figure.Figure at 0x2b4866def850>"
      ]
     },
     "metadata": {},
     "output_type": "display_data"
    }
   ],
   "source": [
    "%matplotlib inline \n",
    "import matplotlib.pyplot as plt\n",
    "\n",
    "tp_start = dt.datetime(1981,10,1)\n",
    "tp_end = dt.datetime(1982,10,1)\n",
    "date_range = [tp_start + dt.timedelta(days=i) for i in range(0, (tp_end-tp_start).days)]\n",
    "\n",
    "lw = 3.0\n",
    "lt = 10\n",
    "rt = 7\n",
    "\n",
    "fig = plt.figure(figsize=(lt,rt))\n",
    "\n",
    "lon_ind = np.argmin(np.abs(ds.lon - lon))\n",
    "lat_ind = np.argmin(np.abs(ds.lat - lat))\n",
    "\n",
    "dfm = ds_full.isel_points(lon=[lon_ind_1],lat=[lat_ind_1])\n",
    "dfm_sel = dfm.sel(day=slice('1981-10-01', '1982-9-30'))\n",
    "# dfm_sel['dead_fuel_moistue_100hr'].plot(label='UI MetData DFM',color='b',linewidth=lw)\n",
    "\n",
    "# plt.plot(date_range,dfm_john,label='DFM from John',color='g',linewidth=lw)\n",
    "\n",
    "plt.plot(date_range,fm100[0,:][(dates_ui >= tp_start) * (dates_ui < tp_end)],linewidth=lw,color='r',\n",
    "         label='DFM')\n",
    "\n",
    "plt.title('100-hr DFM')\n",
    "plt.legend()\n",
    "\n",
    "## save plot\n",
    "direc = '/raid9/gergel/agg_snowpack/'\n",
    "plotname = 'feb1_2' \n",
    "savepath = os.path.join(direc, plotname)\n",
    "print (\"saving figure to '%s'\" % savepath)\n",
    "plt.savefig(savepath)"
   ]
  },
  {
   "cell_type": "code",
   "execution_count": 11,
   "metadata": {
    "collapsed": false
   },
   "outputs": [
    {
     "name": "stdout",
     "output_type": "stream",
     "text": [
      "[[ 1.          0.99377126]\n",
      " [ 0.99377126  1.        ]]\n"
     ]
    }
   ],
   "source": [
    "print(np.corrcoef(dfm_john,fm100[0,:][(dates_ui >= tp_start) * (dates_ui < tp_end)]))"
   ]
  },
  {
   "cell_type": "code",
   "execution_count": 15,
   "metadata": {
    "collapsed": false
   },
   "outputs": [
    {
     "name": "stdout",
     "output_type": "stream",
     "text": [
      "[[ 1.         0.9986312]\n",
      " [ 0.9986312  1.       ]]\n",
      "saving figure to '/raid9/gergel/agg_snowpack/feb1_3'\n"
     ]
    },
    {
     "data": {
      "image/png": "[encoded data removed]",
      "text/plain": [
       "<matplotlib.figure.Figure at 0x2b4f06e0e250>"
      ]
     },
     "metadata": {},
     "output_type": "display_data"
    }
   ],
   "source": [
    "fig = plt.figure(figsize=(lt,rt))\n",
    "\n",
    "# plt.plot(date_range,dfm1000_john,label='DFM from John',color='g',linewidth=lw)\n",
    "\n",
    "plt.plot(date_range,fm1000[0,:][(dates_ui >= tp_start) * (dates_ui < tp_end)],linewidth=lw,color='r',\n",
    "         label='DFM algorithm')\n",
    "plt.title('1000-hr DFM')\n",
    "plt.legend()\n",
    "\n",
    "print(np.corrcoef(dfm1000_john,fm1000[0,:][(dates_ui >= tp_start) * (dates_ui < tp_end)]))\n",
    "\n",
    "## save plot\n",
    "direc = '/raid9/gergel/agg_snowpack/'\n",
    "plotname = 'feb1_3' \n",
    "savepath = os.path.join(direc, plotname)\n",
    "print (\"saving figure to '%s'\" % savepath)\n",
    "plt.savefig(savepath)"
   ]
  },
  {
   "cell_type": "markdown",
   "metadata": {},
   "source": [
    "WRITE TO CSV FILE"
   ]
  },
  {
   "cell_type": "code",
   "execution_count": 13,
   "metadata": {
    "collapsed": false
   },
   "outputs": [],
   "source": [
    "d = {'rhmax': rhmax,'rhmin': rhmin,'tmax':tmax, 'tmin':tmin, 'precip': pptamt_in['precipitation_amount'].values[0,:],\n",
    "     'julian_day':julians,'fm100':fm100[0,:],'fm1000':fm1000[0,:]}\n",
    "df_for_csv = pd.DataFrame(data=d)\n",
    "df_for_csv\n",
    "df_for_csv.to_csv('/raid/gergel/csv_for_john.csv')"
   ]
  },
  {
   "cell_type": "code",
   "execution_count": null,
   "metadata": {
    "collapsed": true
   },
   "outputs": [],
   "source": []
  }
 ],
 "metadata": {
  "kernelspec": {
   "display_name": "Python 2",
   "language": "python",
   "name": "python2"
  },
  "language_info": {
   "codemirror_mode": {
    "name": "ipython",
    "version": 2
   },
   "file_extension": ".py",
   "mimetype": "text/x-python",
   "name": "python",
   "nbconvert_exporter": "python",
   "pygments_lexer": "ipython2",
   "version": "2.7.11"
  }
 },
 "nbformat": 4,
 "nbformat_minor": 0
}
