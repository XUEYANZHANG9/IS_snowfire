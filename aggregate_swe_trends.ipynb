{
 "cells": [
  {
   "cell_type": "code",
   "execution_count": 61,
   "metadata": {
    "collapsed": true
   },
   "outputs": [],
   "source": [
    "import matplotlib\n",
    "import matplotlib.pyplot as plt\n",
    "%matplotlib inline\n",
    "# import netCDF4\n",
    "# from netCDF4 import num2date\n",
    "import os\n",
    "import datetime\n",
    "import numpy as np\n",
    "import matplotlib.dates \n",
    "import pandas as pd\n",
    "from scipy import stats\n",
    "basins = [\"cascades\",\"california\",\"northernrockies\",\"southernrockies\",\"whites\"]\n",
    "scenarios = [\"rcp45\",\"rcp85\"]\n",
    "variables=[\"swe\",\"sm\"]"
   ]
  },
  {
   "cell_type": "code",
   "execution_count": 62,
   "metadata": {
    "collapsed": false
   },
   "outputs": [],
   "source": [
    "'''direc = '/raid9/gergel/agg_snowpack/%s' %scenario\n",
    "file = '%s.npz' %\"whites\"\n",
    "data = np.load(os.path.join(direc,file))\n",
    "swe = data['swe']'''\n",
    "date_rng = pd.date_range('4/1/1950', periods=56, freq='A')\n",
    "date_rng1 = pd.date_range('4/1/2006', periods=94, freq='A')\n"
   ]
  },
  {
   "cell_type": "code",
   "execution_count": 63,
   "metadata": {
    "collapsed": false
   },
   "outputs": [
    {
     "name": "stdout",
     "output_type": "stream",
     "text": [
      "cascades rcp45: Welch test tstat=[ 9.49635121], pval = [  4.87964679e-14]\n",
      "cascades rcp45: Welch test tstat=[ 17.18156988], pval = [  1.37581455e-27]\n",
      "cascades rcp45: Welch test tstat=[ 26.93880966], pval = [  3.21358296e-42]\n",
      "cascades rcp85: Welch test tstat=[ 10.0593797], pval = [  6.57608230e-15]\n",
      "cascades rcp85: Welch test tstat=[ 18.18427814], pval = [  2.46338000e-26]\n",
      "cascades rcp85: Welch test tstat=[ 32.52495525], pval = [  1.46687544e-45]\n",
      "california rcp45: Welch test tstat=[ 5.56296313], pval = [  4.02927255e-07]\n",
      "california rcp45: Welch test tstat=[ 12.84333035], pval = [  2.54035865e-21]\n",
      "california rcp45: Welch test tstat=[ 12.1281176], pval = [  6.28552034e-19]\n",
      "california rcp85: Welch test tstat=[ 6.12974812], pval = [  4.55467826e-08]\n",
      "california rcp85: Welch test tstat=[ 13.36830283], pval = [  4.07043591e-22]\n",
      "california rcp85: Welch test tstat=[ 21.54897511], pval = [  6.09893150e-35]\n",
      "northernrockies rcp45: Welch test tstat=[ 4.23849056], pval = [  7.51861887e-05]\n",
      "northernrockies rcp45: Welch test tstat=[ 8.59277617], pval = [  2.37300240e-12]\n",
      "northernrockies rcp45: Welch test tstat=[ 15.73372637], pval = [  1.77860921e-26]\n",
      "northernrockies rcp85: Welch test tstat=[ 4.78368101], pval = [  1.00300579e-05]\n",
      "northernrockies rcp85: Welch test tstat=[ 10.36636086], pval = [  1.38325841e-14]\n",
      "northernrockies rcp85: Welch test tstat=[ 19.84904337], pval = [  1.68951468e-26]\n",
      "southernrockies rcp45: Welch test tstat=[ 1.83114919], pval = [ 0.07106264]\n",
      "southernrockies rcp45: Welch test tstat=[ 5.55163083], pval = [  4.84901302e-07]\n",
      "southernrockies rcp45: Welch test tstat=[ 7.02057615], pval = [  1.38645950e-09]\n",
      "southernrockies rcp85: Welch test tstat=[ 1.69663607], pval = [ 0.09397831]\n",
      "southernrockies rcp85: Welch test tstat=[ 7.88657217], pval = [  2.05826185e-11]\n",
      "southernrockies rcp85: Welch test tstat=[ 14.44294067], pval = [  2.98474669e-23]\n",
      "whites rcp45: Welch test tstat=[ 4.95013847], pval = [  3.90753618e-06]\n",
      "whites rcp45: Welch test tstat=[ 9.14462392], pval = [  1.00380269e-13]\n",
      "whites rcp45: Welch test tstat=[ 11.11374436], pval = [  2.04236304e-16]\n",
      "whites rcp85: Welch test tstat=[ 5.13907675], pval = [  1.90309730e-06]\n",
      "whites rcp85: Welch test tstat=[ 10.38398497], pval = [  1.23739799e-15]\n",
      "whites rcp85: Welch test tstat=[ 13.12335502], pval = [  2.32359981e-18]\n"
     ]
    }
   ],
   "source": [
    "for basin in basins: \n",
    "    ## do historical first\n",
    "    direc = '/raid9/gergel/agg_snowpack/%s' %\"historical\"\n",
    "    file = '%s.npz' %basin\n",
    "    data = np.load(os.path.join(direc,file))\n",
    "    swe = data['swe']\n",
    "    #histswe = swe[(date_rng.year > 1969) & (date_rng.year < 2000)]\n",
    "    histswe = swe[(date_rng.year > 1950) & (date_rng.year < 2005)]\n",
    "    for scenario in scenarios: \n",
    "        # rng[rng.year > 1980]\n",
    "        direc = '/raid9/gergel/agg_snowpack/%s' %scenario\n",
    "        file = '%s.npz' %basin\n",
    "        data = np.load(os.path.join(direc,file))\n",
    "        swe = data['swe']\n",
    "        swe1 = swe[(date_rng1.year > 2009) & (date_rng1.year < 2040)]\n",
    "        swe2 = swe[(date_rng1.year > 2039) & (date_rng1.year < 2070)]\n",
    "        swe3 = swe[(date_rng1.year > 2069) & (date_rng1.year < 2100)]\n",
    "        r1 = stats.ttest_ind(histswe,swe1,equal_var=False)\n",
    "        r2 = stats.ttest_ind(histswe,swe2,equal_var=False)\n",
    "        r3 = stats.ttest_ind(histswe,swe3,equal_var=False)\n",
    "        print('%s %s: Welch test tstat=%s, pval = %s' %(basin,scenario,r1[0],r1[1]))\n",
    "        print('%s %s: Welch test tstat=%s, pval = %s' %(basin,scenario,r2[0],r2[1]))\n",
    "        print('%s %s: Welch test tstat=%s, pval = %s' %(basin,scenario,r3[0],r3[1]))"
   ]
  },
  {
   "cell_type": "code",
   "execution_count": null,
   "metadata": {
    "collapsed": true
   },
   "outputs": [],
   "source": []
  }
 ],
 "metadata": {
  "kernelspec": {
   "display_name": "Python 2",
   "language": "python",
   "name": "python2"
  },
  "language_info": {
   "codemirror_mode": {
    "name": "ipython",
    "version": 2
   },
   "file_extension": ".py",
   "mimetype": "text/x-python",
   "name": "python",
   "nbconvert_exporter": "python",
   "pygments_lexer": "ipython2",
   "version": "2.7.9"
  }
 },
 "nbformat": 4,
 "nbformat_minor": 0
}
