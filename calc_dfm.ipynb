{
 "cells": [
  {
   "cell_type": "code",
   "execution_count": 1,
   "metadata": {
    "collapsed": false
   },
   "outputs": [
    {
     "name": "stdout",
     "output_type": "stream",
     "text": [
      "Once deleted, variables cannot be recovered. Proceed (y/[n])? y\n"
     ]
    }
   ],
   "source": [
    "%reset "
   ]
  },
  {
   "cell_type": "code",
   "execution_count": 2,
   "metadata": {
    "collapsed": false
   },
   "outputs": [
    {
     "name": "stdout",
     "output_type": "stream",
     "text": [
      "Once deleted, variables cannot be recovered. Proceed (y/[n])?  y\n",
      "No regex pattern specified. Nothing done.\n"
     ]
    },
    {
     "ename": "ImportError",
     "evalue": "No module named dask",
     "output_type": "error",
     "traceback": [
      "\u001b[1;31m---------------------------------------------------------------------------\u001b[0m",
      "\u001b[1;31mImportError\u001b[0m                               Traceback (most recent call last)",
      "\u001b[1;32m<ipython-input-2-c19c1f57320d>\u001b[0m in \u001b[0;36m<module>\u001b[1;34m()\u001b[0m\n\u001b[0;32m     13\u001b[0m \u001b[0mdirec\u001b[0m \u001b[1;33m=\u001b[0m \u001b[1;34m'/raid/gergel/%s'\u001b[0m \u001b[1;33m%\u001b[0m \u001b[1;34m\"tmin\"\u001b[0m\u001b[1;33m\u001b[0m\u001b[0m\n\u001b[0;32m     14\u001b[0m \u001b[0mtmin_file\u001b[0m \u001b[1;33m=\u001b[0m \u001b[1;34m\"%s_%s_%s.nc\"\u001b[0m \u001b[1;33m%\u001b[0m \u001b[1;33m(\u001b[0m\u001b[0mmodel\u001b[0m\u001b[1;33m,\u001b[0m\u001b[0mscenario\u001b[0m\u001b[1;33m,\u001b[0m\u001b[1;34m\"tasmin\"\u001b[0m\u001b[1;33m)\u001b[0m\u001b[1;33m\u001b[0m\u001b[0m\n\u001b[1;32m---> 15\u001b[1;33m \u001b[0mtmin\u001b[0m \u001b[1;33m=\u001b[0m \u001b[0mxray\u001b[0m\u001b[1;33m.\u001b[0m\u001b[0mopen_dataset\u001b[0m\u001b[1;33m(\u001b[0m\u001b[0mos\u001b[0m\u001b[1;33m.\u001b[0m\u001b[0mpath\u001b[0m\u001b[1;33m.\u001b[0m\u001b[0mjoin\u001b[0m\u001b[1;33m(\u001b[0m\u001b[0mdirec\u001b[0m\u001b[1;33m,\u001b[0m\u001b[0mtmin_file\u001b[0m\u001b[1;33m)\u001b[0m\u001b[1;33m,\u001b[0m\u001b[0mchunks\u001b[0m\u001b[1;33m=\u001b[0m\u001b[1;33m{\u001b[0m\u001b[1;34m'time'\u001b[0m\u001b[1;33m:\u001b[0m \u001b[1;36m10\u001b[0m\u001b[1;33m}\u001b[0m\u001b[1;33m)\u001b[0m\u001b[1;33m\u001b[0m\u001b[0m\n\u001b[0m\u001b[0;32m     16\u001b[0m \u001b[1;33m\u001b[0m\u001b[0m\n\u001b[0;32m     17\u001b[0m \u001b[0mdirec\u001b[0m \u001b[1;33m=\u001b[0m \u001b[1;34m'/raid/gergel/%s'\u001b[0m \u001b[1;33m%\u001b[0m \u001b[1;34m\"tmax\"\u001b[0m\u001b[1;33m\u001b[0m\u001b[0m\n",
      "\u001b[1;32m/home/gergel/anaconda/envs/my_env/lib/python2.7/site-packages/xray/backends/api.pyc\u001b[0m in \u001b[0;36mopen_dataset\u001b[1;34m(filename_or_obj, group, decode_cf, mask_and_scale, decode_times, concat_characters, decode_coords, engine, chunks, lock, drop_variables)\u001b[0m\n\u001b[0;32m    221\u001b[0m             \u001b[0mlock\u001b[0m \u001b[1;33m=\u001b[0m \u001b[0m_default_lock\u001b[0m\u001b[1;33m(\u001b[0m\u001b[0mfilename_or_obj\u001b[0m\u001b[1;33m,\u001b[0m \u001b[0mengine\u001b[0m\u001b[1;33m)\u001b[0m\u001b[1;33m\u001b[0m\u001b[0m\n\u001b[0;32m    222\u001b[0m         \u001b[1;32mwith\u001b[0m \u001b[0mclose_on_error\u001b[0m\u001b[1;33m(\u001b[0m\u001b[0mstore\u001b[0m\u001b[1;33m)\u001b[0m\u001b[1;33m:\u001b[0m\u001b[1;33m\u001b[0m\u001b[0m\n\u001b[1;32m--> 223\u001b[1;33m             \u001b[1;32mreturn\u001b[0m \u001b[0mmaybe_decode_store\u001b[0m\u001b[1;33m(\u001b[0m\u001b[0mstore\u001b[0m\u001b[1;33m,\u001b[0m \u001b[0mlock\u001b[0m\u001b[1;33m)\u001b[0m\u001b[1;33m\u001b[0m\u001b[0m\n\u001b[0m\u001b[0;32m    224\u001b[0m     \u001b[1;32melse\u001b[0m\u001b[1;33m:\u001b[0m\u001b[1;33m\u001b[0m\u001b[0m\n\u001b[0;32m    225\u001b[0m         \u001b[1;32mif\u001b[0m \u001b[0mengine\u001b[0m \u001b[1;32mis\u001b[0m \u001b[1;32mnot\u001b[0m \u001b[0mNone\u001b[0m \u001b[1;32mand\u001b[0m \u001b[0mengine\u001b[0m \u001b[1;33m!=\u001b[0m \u001b[1;34m'scipy'\u001b[0m\u001b[1;33m:\u001b[0m\u001b[1;33m\u001b[0m\u001b[0m\n",
      "\u001b[1;32m/home/gergel/anaconda/envs/my_env/lib/python2.7/site-packages/xray/backends/api.pyc\u001b[0m in \u001b[0;36mmaybe_decode_store\u001b[1;34m(store, lock)\u001b[0m\n\u001b[0;32m    162\u001b[0m                 \u001b[1;32mfrom\u001b[0m \u001b[0mdask\u001b[0m\u001b[1;33m.\u001b[0m\u001b[0mbase\u001b[0m \u001b[1;32mimport\u001b[0m \u001b[0mtokenize\u001b[0m\u001b[1;33m\u001b[0m\u001b[0m\n\u001b[0;32m    163\u001b[0m             \u001b[1;32mexcept\u001b[0m \u001b[0mImportError\u001b[0m\u001b[1;33m:\u001b[0m\u001b[1;33m\u001b[0m\u001b[0m\n\u001b[1;32m--> 164\u001b[1;33m                 \u001b[1;32mimport\u001b[0m \u001b[0mdask\u001b[0m  \u001b[1;31m# raise the usual error if dask is entirely missing\u001b[0m\u001b[1;33m\u001b[0m\u001b[0m\n\u001b[0m\u001b[0;32m    165\u001b[0m                 \u001b[1;32mraise\u001b[0m \u001b[0mImportError\u001b[0m\u001b[1;33m(\u001b[0m\u001b[1;34m'xray requires dask version 0.6 or newer'\u001b[0m\u001b[1;33m)\u001b[0m\u001b[1;33m\u001b[0m\u001b[0m\n\u001b[0;32m    166\u001b[0m \u001b[1;33m\u001b[0m\u001b[0m\n",
      "\u001b[1;31mImportError\u001b[0m: No module named dask"
     ]
    }
   ],
   "source": [
    "## note this forcing data is for the entire CONUS so i need to mask out what isn't in the CRB \n",
    "## note: for masking, ufunc functions can be used directly on a DataArray\n",
    "%reset_selective\n",
    "%matplotlib inline\n",
    "import numpy as np\n",
    "import xray\n",
    "import os\n",
    "import math \n",
    "basin = \"cascades\"\n",
    "model = \"CCSM4\"\n",
    "scenario = \"historical\"\n",
    "\n",
    "direc = '/raid/gergel/%s' % \"tmin\"\n",
    "tmin_file = \"%s_%s_%s.nc\" % (model,scenario,\"tasmin\")\n",
    "tmin = xray.open_dataset(os.path.join(direc,tmin_file),chunks={'time': 10})\n",
    "\n",
    "direc = '/raid/gergel/%s' % \"tmax\"\n",
    "tmax_file = \"%s_%s_%s.nc\" % (model,scenario,\"tasmax\")\n",
    "tmax = xray.open_dataset(os.path.join(direc,tmax_file),chunks={'time': 10})\n",
    "\n",
    "f_masks = '/raid9/gergel/agg_snowpack/sm_summer/masks.npz'\n",
    "masks = np.load(f_masks)\n",
    "gb = masks['gb'].reshape(1,382,346)\n",
    "lc = masks['lc'].reshape(1,382,346)\n",
    "mo = masks['mo'].reshape(1,382,346)\n",
    "ds_lc = xray.DataArray(lc).to_dataset()\n",
    "ds_lc.rename({\"dim_0\": \"lat\", \"dim_1\": \"lon\"}, inplace=True)\n",
    "ds_gb = xray.DataArray(gb).to_dataset()\n",
    "ds_gb.rename({\"dim_0\": \"lat\", \"dim_1\": \"lon\"}, inplace=True)\n",
    "ds_mo = xray.DataArray(mo).to_dataset()\n",
    "ds_mo.rename({\"dim_0\": \"lat\", \"dim_1\": \"lon\"}, inplace=True)\n",
    "\n",
    "############################ masking with swe/no swe ############################## \n",
    "swe_mask_file = '/raid9/gergel/agg_snowpack/goodleap/SWE/histmeanmask.nc' ## 1s are swe, 0s are no swe \n",
    "swe_mask = xray.open_dataset(swe_mask_file)\n",
    "###########################################################################\n",
    "\n",
    "## rename dimensions\n",
    "swe_mask.rename({\"Latitude\": \"lat\", \"Longitude\": \"lon\", \"Time\": \"time\"}, inplace=True)\n",
    "# swe_mask[dict(\"lat\" < 180)] = lat + 180\n",
    "# tmin['lon'][tmin['lon'] > 180] - 360\n",
    "## adjust lat/lon dimensions since the index names are different\n",
    "tmin_lons_new = tmin['lon'].values[tmin['lon'].values > 180] - 360 \n",
    "tmin['lon'] = tmin_lons_new\n",
    "tmax['lon'] = tmin_lons_new\n",
    "\n",
    "## deal with time dimension length issue with swe_mask\n",
    "swe_mask = swe_mask.squeeze()\n",
    "\n",
    "## Dataset join \n",
    "swe_mask_align,tmin_align = xray.align(swe_mask,tmin,join='inner',copy=False)\n",
    "swe_mask_align,tmax_align = xray.align(swe_mask,tmax,join='inner',copy=False)\n",
    "\n",
    "## now do masking\n",
    "if (basin == \"cascades\"):\n",
    "    arr_tmin = tmin_align.where(swe_mask.time == 1 and tmin.lat < 41.5 and tmin.lat > 49.0 and\n",
    "                          tmin.lon < -123.25 and tmin.lon > -119.5)\n",
    "    arr_tmax = tmax_align.where(swe_mask.time == 1 and tmin.lat < 41.5 and tmin.lat > 49.0 and\n",
    "                          tmin.lon < -123.25 and tmin.lon > -119.5)\n",
    "elif (basin == \"california\"):\n",
    "    arr_tmin = tmin_align.where(swe_mask.time == 1 and tmin.lat < 34.5 and tmin.lat > 41.5 and\n",
    "                          tmin.lon < -122.5 and tmin.lon > -117)\n",
    "    arr_tmax = tmax_align.where(swe_mask.time == 1 and tmin.lat < 41.5 and tmin.lat > 49.0 and\n",
    "                          tmin.lon < -123.25 and tmin.lon > -119.5)\n",
    "elif (basin == \"northernrockies\"):\n",
    "    arr_tmin = tmin_align.where(swe_mask.time == 1 and tmin.lat < 42.37 and tmin.lat > 49.0 and\n",
    "                          tmin.lon < -119.5 and tmin.lon > -107.5)\n",
    "    arr_tmax = tmax_align.where(swe_mask.time == 1 and tmin.lat < 41.5 and tmin.lat > 49.0 and\n",
    "                          tmin.lon < -123.25 and tmin.lon > -119.5)\n",
    "elif (basin == \"southernrockies\"): \n",
    "    arr_tmin = tmin_align.where(swe_mask.time == 1 and tmin.lat < 35 and tmin.lat > 42.37 and\n",
    "                          tmin.lon < -113 and tmin.lon > -104)\n",
    "    arr_tmax = tmax_align.where(swe_mask.time == 1 and tmin.lat < 41.5 and tmin.lat > 49.0 and\n",
    "                          tmin.lon < -123.25 and tmin.lon > -119.5)\n",
    "elif (basin == \"whites\"):\n",
    "    arr_tmin = tmin_align.where(swe_mask.time == 1 and tmin.lat < 32 and tmin.lat > 36 and\n",
    "                          tmin.lon < -111 and tmin.lon > -108)\n",
    "    arr_tmax = tmax_align.where(swe_mask.time == 1 and tmin.lat < 41.5 and tmin.lat > 49.0 and\n",
    "                          tmin.lon < -123.25 and tmin.lon > -119.5)\n",
    "elif (basin == \"nwinterior\"):\n",
    "    arr_tmin = tmin_align.where(swe_mask.time == 0 and tmin.lat < 42 and tmin.lat > 49 and\n",
    "                          tmin.lon < -121.5 and tmin.lon > -111)\n",
    "    arr_tmax = tmax_align.where(swe_mask.time == 1 and tmin.lat < 41.5 and tmin.lat > 49.0 and\n",
    "                          tmin.lon < -123.25 and tmin.lon > -119.5)\n",
    "elif (basin == \"coastalsouth\"):\n",
    "    arr_tmin = tmin_align.where(swe_mask.time == 0 and tmin.lat < 33 and tmin.lat > 41.5 and\n",
    "                          tmin.lon < -124 and tmin.lon > -118.5)\n",
    "    arr_tmax = tmax_align.where(swe_mask.time == 1 and tmin.lat < 41.5 and tmin.lat > 49.0 and\n",
    "                          tmin.lon < -123.25 and tmin.lon > -119.5)\n",
    "elif (basin == \"coastalnorth\"):\n",
    "    arr_tmin = tmin_align.where(swe_mask.time == 0 and tmin.lat < 41.5 and tmin.lat > 48 and\n",
    "                          tmin.lon < -124.5 and tmin.lon > -122.0)\n",
    "    arr_tmax = tmax_align.where(swe_mask.time == 1 and tmin.lat < 41.5 and tmin.lat > 49.0 and\n",
    "                          tmin.lon < -123.25 and tmin.lon > -119.5)\n",
    "elif (basin == \"lower_colorado\"):\n",
    "    arr_tmin = tmin_align.where(swe_mask.time == 0 and ds_lc == 1)\n",
    "    arr_tmax = tmax_align.where(swe_mask.time == 0 and ds_lc == 1)\n",
    "elif (basin == \"missouri\"):\n",
    "    arr_tmin = tmin_align.where(swe_mask.time == 0 and ds_mo == 1)\n",
    "    arr_tmax = tmax_align.where(swe_mask.time == 0 and ds_lc == 1)\n",
    "else: \n",
    "    arr_tmin = tmin_align.where(swe_mask.time == 0 and ds_gb == 1)\n",
    "    arr_tmax = tmax_align.where(swe_mask.time == 0 and ds_lc == 1)\n",
    "    \n",
    "del swe_mask_align \n",
    "del tmin \n",
    "del tmax \n",
    "del tmax_align \n",
    "del tmin_align"
   ]
  },
  {
   "cell_type": "code",
   "execution_count": null,
   "metadata": {
    "collapsed": false
   },
   "outputs": [],
   "source": [
    "## estimate relative humidity using hypsometric equation for pressure, virtual temperature and t_avg\n",
    "Rd = 287.04 ## J kg^-1 K ^-1\n",
    "p1 = 100000 ## Pa\n",
    "T0 = 273.15 ## reference temperature\n",
    "g = 9.81 ## m / s^2\n",
    "## need to bring in arr_w\n",
    "arr_w = arr_tmin\n",
    "## need to get elevations for grid cells\n",
    "h = np.ones(shape=(len(arr_tmin.lat),len(arr_tmin.lon)),dtype='float')\n",
    "t_avg = (arr_tmin.air_temp_min + arr_tmax.air_temp_max) * 0.5\n",
    "##  Tv = T(1 + 0.61w)\n",
    "Tv = t_avg * (1 + 0.61*arr_w)\n",
    "## p = e ^ (-(((z_2 - z_1) * g)/ (Rd*Tv) - ln(p1)))\n",
    "hg = h * g\n",
    "RdTv = Rd * Tv\n",
    "\n",
    "p = np.exp(-((np.divide(hg,RdTv.air_temp_min)) - math.log(p1)))\n",
    "## RH = 0.263*p*q[exp(17.67*T - T0)/(T - 29.65)]^-1\n",
    "RH = 0.263*p*arr_w * ((np.exp((17.67 * (t_avg - T0))/ (t_avg - 29.65)))**-1)\n",
    "\n",
    "del p,RdTv,Tv,hg,arr_w\n",
    "\n",
    "## estimate vapor pressures\n",
    "satvpd = np.exp(1.81 + (((t_avg * 17.27) - 4717.31)/(t_avg - 35.86)))\n",
    "satvpx = np.exp(1.81 + (((arr_tmin.air_temp_min * 17.27) - \n",
    "                         4717.31)/(arr_tmin.air_temp_min - 35.86)))\n",
    "satvpn = np.exp(1.81 + (((arr_tmax.air_temp_max * 17.27) - \n",
    "                         4717.31)/(arr_tmax.air_temp_max - 35.86)))\n",
    "ambvp = (RH * satvpd) * (1.0/100.0)\n",
    "RHmax = 100.0 * (ambvp/satvpn)\n",
    "RHmin = 100.0 * (ambvp/satvpx)\n",
    "\n",
    "## remove extra data objects\n",
    "del ambvp \n",
    "del satvpn \n",
    "del satvpx \n",
    "del satvpd \n",
    "\n",
    "## estimate EMCs\n",
    "if RH < 10: \n",
    "    EMC = 0.03229 + 0.281073*RH - 0.000578*t_avg*RH\n",
    "elif RH >= 10 and RH <= 50:\n",
    "    EMC = 2.22749 - 0.160107*RH - 0.014784*t_avg\n",
    "else: \n",
    "    EMC = 21.0606 + (0.005565*(RH**2)) - (0.00035*RH*t_avg) - (0.483199*RH)\n",
    "\n",
    "if RHmax < 10:\n",
    "    EMCmax = 0.03229 + 0.281073*RHmax - 0.000578*arr_tmax*RHmax\n",
    "elif RHmax >= 10 and RHmax <= 50:\n",
    "    EMCmax = 2.22749 - 0.160107*RHmax - 0.014784*arr_tmax\n",
    "else: \n",
    "    EMCmax = 21.0606 + (0.005565*(RHmax**2)\n",
    "                       ) - (0.00035*RHmax*arr_tmax) - (0.483199*RHmax)\n",
    "\n",
    "if RHmin < 10:\n",
    "    EMCmin = 0.03229 + 0.281073*RHmin - 0.000578*arr_tmin*RHmin\n",
    "elif RHmin >= 10 and RHmin <= 50:\n",
    "    EMCmin = 2.22749 - 0.160107*RHmin - 0.014784*arr_tmin\n",
    "else: \n",
    "    EMCmin = 21.0606 + (0.005565*(RHmin**2)\n",
    "                       ) - (0.00035*RHmin*arr_tmin) - (0.483199*RHmin)\n",
    "\n",
    "\n"
   ]
  },
  {
   "cell_type": "code",
   "execution_count": null,
   "metadata": {
    "collapsed": false
   },
   "outputs": [],
   "source": []
  },
  {
   "cell_type": "code",
   "execution_count": null,
   "metadata": {
    "collapsed": true
   },
   "outputs": [],
   "source": []
  }
 ],
 "metadata": {
  "kernelspec": {
   "display_name": "Python 2",
   "language": "python",
   "name": "python2"
  },
  "language_info": {
   "codemirror_mode": {
    "name": "ipython",
    "version": 2
   },
   "file_extension": ".py",
   "mimetype": "text/x-python",
   "name": "python",
   "nbconvert_exporter": "python",
   "pygments_lexer": "ipython2",
   "version": "2.7.11"
  }
 },
 "nbformat": 4,
 "nbformat_minor": 0
}
