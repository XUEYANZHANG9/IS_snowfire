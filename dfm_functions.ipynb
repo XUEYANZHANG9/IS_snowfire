{
 "cells": [
  {
   "cell_type": "code",
   "execution_count": null,
   "metadata": {
    "collapsed": true
   },
   "outputs": [],
   "source": [
    "def estimate_relative_humidity(q,t_avg,lat,lon):\n",
    "    ## estimates relative humidity using hypsometric equation for pressure, virtual temperature and \n",
    "    ## average temperature \n",
    "    import numpy as np\n",
    "    from snowpack_functions import get_elev_for_lat_lon,import_gridcell_elevation \n",
    "    #################### CONSTANTS ###############################\n",
    "    Rd = 287.04 ## J kg^-1 K ^-1\n",
    "    p1 = 100000 ## Pa\n",
    "    T0 = 273.15 ## reference temperature\n",
    "    g = 9.81 ## m / s^2\n",
    "    \n",
    "    ## need to get elevations for grid cells\n",
    "    soil_file = '/raid9/gergel/agg_snowpack/soil_avail.txt'\n",
    "    elev_corr_info = import_gridcell_elevation(soil_file) \n",
    "    h = get_elev_for_lat_lon(elev_corr_info,lat,lon)\n",
    "    \n",
    "    ##  Tv = T(1 + 0.61w)\n",
    "    Tv = t_avg * (1 + 0.61*q)\n",
    "    ## p = e ^ (-(((z_2 - z_1) * g)/ (Rd*Tv) - ln(p1)))\n",
    "    hg = h * g\n",
    "    RdTv = Rd * Tv\n",
    "\n",
    "    p = np.exp(-((np.divide(hg,RdTv.air_temp_min)) - math.log(p1)))\n",
    "    ## RH = 0.263*p*q[exp(17.67*T - T0)/(T - 29.65)]^-1\n",
    "    \n",
    "    RH = 0.263*p*q * ((np.exp((17.67 * (t_avg - T0))/ (t_avg - 29.65)))**-1)\n",
    "    \n",
    "    return (RH)\n",
    "\n",
    "def estimate_emc(RH,t):\n",
    "    if RH < 10: \n",
    "        EMC = 0.03229 + 0.281073*RH - 0.000578*t_avg*RH\n",
    "    elif RH >= 10 and RH <= 50:\n",
    "        EMC = 2.22749 - 0.160107*RH - 0.014784*t_avg\n",
    "    else: \n",
    "        EMC = 21.0606 + (0.005565*(RH**2)) - (0.00035*RH*t_avg) - (0.483199*RH)\n",
    "    return(EMC)\n",
    "\n",
    "def nfdrs_climate_class(lat,lon)\n",
    "    ## use eastern boundary of the Cascades to delineate (this might need refinement)\n",
    "    if lon > -120.5:\n",
    "        climate_class = 2\n",
    "        wetrat = 0.25\n",
    "    else:\n",
    "        climate_class = 3\n",
    "        wetrat = 0.05\n",
    "    return(climate_class,wetrat)\n"
   ]
  }
 ],
 "metadata": {
  "kernelspec": {
   "display_name": "Python 2",
   "language": "python",
   "name": "python2"
  },
  "language_info": {
   "codemirror_mode": {
    "name": "ipython",
    "version": 2
   },
   "file_extension": ".py",
   "mimetype": "text/x-python",
   "name": "python",
   "nbconvert_exporter": "python",
   "pygments_lexer": "ipython2",
   "version": "2.7.10"
  }
 },
 "nbformat": 4,
 "nbformat_minor": 0
}
