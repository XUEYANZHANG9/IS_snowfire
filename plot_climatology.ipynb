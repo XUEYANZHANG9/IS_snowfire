{
 "metadata": {
  "name": ""
 },
 "nbformat": 3,
 "nbformat_minor": 0,
 "worksheets": [
  {
   "cells": [
    {
     "cell_type": "code",
     "collapsed": false,
     "input": [
      "from snowpack_functions import make_map, mesh_gridify, unpack_netcdf_file_var,lat_lon_adjust,mask_latlon,historical_sum_swe\n",
      "import numpy as np\n",
      "import pandas as pd\n",
      "import os\n",
      "import matplotlib.pyplot as plt\n",
      "# from mpl_toolkits.basemap import Basemap\n",
      "import math \n",
      "%matplotlib inline \n",
      "## do all basins in one. \n",
      "## two figures: precipitation, temperature\n",
      "## each figure: 1970-1999, 2010-2039, 2040-2069,2070-2099 (2 x 4, with first halfway between rows 1 and 2) \n",
      "## fileformat: pr_ensavg_rcp85_whites_2040-2069.nc\n",
      "'''\n",
      "variables = [\"pr\" \"temp\"]\n",
      "chunks = [\"1970-1999\",\"2010-2039\",\"2040-2069\",\"2070-2099\"] \n",
      "scenarios = [\"historical\",\"rcp45\",\"rcp85\"] \n",
      "basins = [\"california\",\"cascades\",\"northernrockies\",\"southernrockies\",\"whites\"] \n",
      "'''\n",
      "variable = \"pr\"\n",
      "chunk = \"1970-1999\"\n",
      "scenario = \"historical\"\n",
      "basin = \"whites\"\n",
      "\n",
      "###################################################### MAKE MAP ############################################################### \n",
      "fig = plt.figure(figsize=(12,10))\n",
      "m = make_map()\n",
      "\n",
      "## get data \n",
      "direc = '/raid9/gergel/agg_snowpack/climatology/data/' \n",
      "filename = '%s_ensavg_%s_%s_%s.nc' %(variable,scenario,basin,chunk)\n",
      "filename = '%s_ensavg_%s_%s_%s.nc' %(variable,scenario,basin,chunk)\n",
      "if (variable == \"pr\"):\n",
      "    lats,lons,var,datess = unpack_netcdf_file_var(direc,filename,\"pr\")\n",
      "else: \n",
      "    filename = '%s_ensavg_%s_%s_%s.nc' %(\"tasmax\",scenario,basin,chunk)\n",
      "    lats,lons,var_max,datess = unpack_netcdf_file_var(direc,filename,\"tasmax\")\n",
      "    filename = '%s_ensavg_%s_%s_%s.nc' %(\"tasmin\",scenario,basin,chunk)\n",
      "    lats,lons,var_min,datess = unpack_netcdf_file_var(direc,filename,\"tasmin\")\n",
      "var_series = list()\n",
      "lats_inc = list()\n",
      "lons_inc = list()\n",
      "## process data \n",
      "for j in np.arange(len(lats)): ## loop over latitude\n",
      "    for k in np.arange(len(lons)): ## loop over longitude\n",
      "        if (math.isnan(var[0,j,k])) == False: \n",
      "            if_in_box = mask_latlon(lats[j],lons[k],basin)\n",
      "            adjust_mask = lat_lon_adjust(lats[j],lons[k],basin)\n",
      "            mean_swe = historical_sum_swe(lats[j],lons[k])\n",
      "            if if_in_box and adjust_mask and mean_swe: ## then use data and get average for each grid cell \n",
      "                var_year = 0\n",
      "                for i in np.arange(len(var)): \n",
      "                    ind = i * 5 \n",
      "                    if (variable == \"pr\"): \n",
      "                        year_var = np.sum(var[ind:ind+5,j,k])\n",
      "                    else: \n",
      "                        year_var = np.mean(var_max[ind:ind+5,j,k]) + np.mean(var_min[ind:ind+5,j,k])\n",
      "                var_series.append((var_year/len(var))-273.15) ## append to array and convert from Kelvin to Celcius \n",
      "\n",
      "## now plot on map \n",
      "lons_mesh,lats_mesh,data_mesh = mesh_gridify(np.asarray(lats_inc),np.asarray(lons_inc),np.asarray(var_series)) \n",
      "ax = fig.add_subplot(2,4,1)\n",
      "cs = m.pcolormesh(lons_mesh,lats_mesh,data_mesh,shading='flat',cmap='jet',latlon=True,zorder=1,vmin=np.min(data_mesh),vmax=np.max(data_mesh))\n",
      "                  \n",
      "\n",
      "                \n",
      "                        "
     ],
     "language": "python",
     "metadata": {},
     "outputs": [
      {
       "ename": "NameError",
       "evalue": "global name 'Basemap' is not defined",
       "output_type": "pyerr",
       "traceback": [
        "\u001b[1;31m---------------------------------------------------------------------------\u001b[0m\n\u001b[1;31mNameError\u001b[0m                                 Traceback (most recent call last)",
        "\u001b[1;32m<ipython-input-11-7ecf3c171c47>\u001b[0m in \u001b[0;36m<module>\u001b[1;34m()\u001b[0m\n\u001b[0;32m     24\u001b[0m \u001b[1;31m###################################################### MAKE MAP ###############################################################\u001b[0m\u001b[1;33m\u001b[0m\u001b[1;33m\u001b[0m\u001b[0m\n\u001b[0;32m     25\u001b[0m \u001b[0mfig\u001b[0m \u001b[1;33m=\u001b[0m \u001b[0mplt\u001b[0m\u001b[1;33m.\u001b[0m\u001b[0mfigure\u001b[0m\u001b[1;33m(\u001b[0m\u001b[0mfigsize\u001b[0m\u001b[1;33m=\u001b[0m\u001b[1;33m(\u001b[0m\u001b[1;36m12\u001b[0m\u001b[1;33m,\u001b[0m\u001b[1;36m10\u001b[0m\u001b[1;33m)\u001b[0m\u001b[1;33m)\u001b[0m\u001b[1;33m\u001b[0m\u001b[0m\n\u001b[1;32m---> 26\u001b[1;33m \u001b[0mm\u001b[0m \u001b[1;33m=\u001b[0m \u001b[0mmake_map\u001b[0m\u001b[1;33m(\u001b[0m\u001b[1;33m)\u001b[0m\u001b[1;33m\u001b[0m\u001b[0m\n\u001b[0m\u001b[0;32m     27\u001b[0m \u001b[1;33m\u001b[0m\u001b[0m\n\u001b[0;32m     28\u001b[0m \u001b[1;31m## get data\u001b[0m\u001b[1;33m\u001b[0m\u001b[1;33m\u001b[0m\u001b[0m\n",
        "\u001b[1;32m/home/raid9/gergel/agg_snowpack/snowpack_functions.pyc\u001b[0m in \u001b[0;36mmake_map\u001b[1;34m()\u001b[0m\n\u001b[0;32m    435\u001b[0m \u001b[1;33m\u001b[0m\u001b[0m\n\u001b[0;32m    436\u001b[0m \u001b[1;32mdef\u001b[0m \u001b[0mmake_map\u001b[0m\u001b[1;33m(\u001b[0m\u001b[1;33m)\u001b[0m\u001b[1;33m:\u001b[0m\u001b[1;33m\u001b[0m\u001b[0m\n\u001b[1;32m--> 437\u001b[1;33m         \u001b[1;32mfrom\u001b[0m \u001b[0mmpl_toolkits\u001b[0m\u001b[1;33m.\u001b[0m\u001b[0mbasemap\u001b[0m \u001b[1;32mimport\u001b[0m \u001b[0mBasemap\u001b[0m\u001b[1;33m\u001b[0m\u001b[0m\n\u001b[0m\u001b[0;32m    438\u001b[0m         m=Basemap(llcrnrlon=-125,llcrnrlat=28,urcrnrlon = -102.5,urcrnrlat=53,projection='cyl',lat_1=33,lat_2=42,lon_0=-110,\n\u001b[0;32m    439\u001b[0m                 resolution='c')\n",
        "\u001b[1;31mNameError\u001b[0m: global name 'Basemap' is not defined"
       ]
      },
      {
       "metadata": {},
       "output_type": "display_data",
       "text": [
        "<matplotlib.figure.Figure at 0x47105d0>"
       ]
      }
     ],
     "prompt_number": 11
    },
    {
     "cell_type": "code",
     "collapsed": false,
     "input": [],
     "language": "python",
     "metadata": {},
     "outputs": []
    }
   ],
   "metadata": {}
  }
 ]
}