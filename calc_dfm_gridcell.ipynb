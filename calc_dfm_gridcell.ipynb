{
 "cells": [
  {
   "cell_type": "code",
   "execution_count": 12,
   "metadata": {
    "collapsed": true
   },
   "outputs": [],
   "source": [
    "%matplotlib inline\n",
    "\n",
    "def estimate__e_s(T): \n",
    "    from xray import ufuncs\n",
    "    T0 = 273.15 ## Kelvin, reference temperature\n",
    "    e_s = 611 * ufuncs.exp((17.67 * (T - T0)) / (t_avg - 29.65) )\n",
    "    return(e_s)\n",
    "\n",
    "def estimate_p(h):\n",
    "    p = 101325 * (1 - ((2.25577 * 10**-5) * h))**5.25588 ## Pascals \n",
    "    return(p)\n",
    "\n",
    "def estimate_relative_humidity(q,e_s,p):\n",
    "    ## estimates relative humidity using hypsometric equation for pressure, virtual temperature and \n",
    "    ## average temperature \n",
    "    import numpy as np\n",
    "    w = q ## approximating the mixing ratio as the specific humidity\n",
    "    w_s = 0.622 * (e_s / p)\n",
    "    RH = 100.0 * (w / w_s)\n",
    "    return (RH)\n",
    "\n",
    "def estimate_emc(RH,T):\n",
    "    if RH < 10: \n",
    "        EMC = 0.03229 + (0.281073 * RH) - (0.000578 * T * RH)\n",
    "    elif RH >= 10 and RH <= 50:\n",
    "        EMC = 2.22749 - 0.160107*RH - 0.014784*T\n",
    "    else: \n",
    "        EMC = 21.0606 + (0.005565*(RH**2)) - (0.00035*RH*T) - (0.483199*RH)\n",
    "    return(EMC)\n",
    "\n",
    "def nfdrs_climate_class(lon):\n",
    "    ## use eastern boundary of the Cascades to delineate (this might need refinement)\n",
    "    if lon > -122.5:\n",
    "        climate_class = 2\n",
    "        wetrat = 0.25\n",
    "    else:\n",
    "        climate_class = 3\n",
    "        wetrat = 0.05\n",
    "    return(climate_class,wetrat)\n"
   ]
  },
  {
   "cell_type": "code",
   "execution_count": 13,
   "metadata": {
    "collapsed": false
   },
   "outputs": [
    {
     "name": "stdout",
     "output_type": "stream",
     "text": [
      "The autoreload extension is already loaded. To reload it, use:\n",
      "  %reload_ext autoreload\n"
     ]
    },
    {
     "data": {
      "text/plain": [
       "6160"
      ]
     },
     "execution_count": 13,
     "metadata": {},
     "output_type": "execute_result"
    }
   ],
   "source": [
    "## note this forcing data is for the entire CONUS so i need to mask out what isn't in the CRB \n",
    "## note: for masking, ufunc functions can be used directly on a DataArray\n",
    "%load_ext autoreload\n",
    "################################# INPUTS #############################\n",
    "lat = 48.03125\n",
    "lon = -121.28125\n",
    "######################################################################\n",
    "import numpy as np\n",
    "import xray\n",
    "from xray import ufuncs\n",
    "import os\n",
    "import math \n",
    "import gc \n",
    "import pandas as pd \n",
    "# from dfm_functions import estimate_emc, nfdrs_climate_class,estimate_relative_humidity\n",
    "basin = \"cascades\"\n",
    "model = \"CCSM4\"\n",
    "scenario = \"historical\"\n",
    "\n",
    "direc = '/raid/gergel/%s' % \"tmin\"\n",
    "tmin_file = \"%s_%s_%s.nc\" % (model,scenario,\"tasmin\")\n",
    "tmin_full = xray.open_dataset(os.path.join(direc,tmin_file)) ## load tmin\n",
    "\n",
    "direc = '/raid/gergel/%s' % \"tmax\"\n",
    "tmax_file = \"%s_%s_%s.nc\" % (model,scenario,\"tasmax\")\n",
    "tmax_full = xray.open_dataset(os.path.join(direc,tmax_file)) ## load tmax\n",
    "\n",
    "direc = '/raid/gergel/%s' % \"rh\"\n",
    "sh_file = \"%s_%s_%s.nc\" % (model,scenario,\"huss\")\n",
    "q_full = xray.open_dataset(os.path.join(direc,sh_file)) ## load specific humidity \n",
    "\n",
    "direc = '/raid/gergel/%s' % \"precip\"\n",
    "pr_file = \"%s_%s_%s.nc\" % (model,scenario,\"pr\")\n",
    "pr_full = xray.open_dataset(os.path.join(direc,pr_file)) ## load precip\n",
    "\n",
    "## adjust lat/lon dimensions since the index names are different\n",
    "tmin_lons_new = tmin_full['lon'].values[tmin_full['lon'].values > 180] - 360 \n",
    "tmin_full['lon'] = tmin_lons_new\n",
    "tmax_full['lon'] = tmin_lons_new\n",
    "q_full['lon'] = tmin_lons_new \n",
    "pr_full['lon'] = tmin_lons_new\n",
    "\n",
    "## select out gridcell \n",
    "lon_ind = np.where(np.asarray(tmin_full.lon).astype('|S10') == np.str(lon))[0][0]\n",
    "lat_ind = np.where(np.asarray(tmin_full.lat).astype('|S8') == np.str(lat))[0][0]\n",
    "\n",
    "## get julian days \n",
    "julians = pd.DatetimeIndex(np.asarray(pr_full.time)).dayofyear\n",
    "\n",
    "# tmin = tmin_full[:,lat_ind,lon_ind]\n",
    "tmin = tmin_full.isel_points(lon=[lon_ind],lat=[lat_ind])\n",
    "tmax = tmax_full.isel_points(lon=[lon_ind],lat=[lat_ind])\n",
    "q = q_full.isel_points(lon=[lon_ind],lat=[lat_ind])\n",
    "pptamt = pr_full.isel_points(lon=[lon_ind],lat=[lat_ind])\n",
    "\n",
    "\n",
    "del tmin_full,tmax_full, q_full,pr_full\n",
    "gc.collect() "
   ]
  },
  {
   "cell_type": "code",
   "execution_count": 50,
   "metadata": {
    "collapsed": false
   },
   "outputs": [],
   "source": [
    "t_avg = (tmin.air_temp_min + tmax.air_temp_max)/2.0\n",
    "\n",
    "## get elevation of grid cell\n",
    "from snowpack_functions import get_elev_for_lat_lon,import_gridcell_elevation \n",
    "soil_file = '/raid9/gergel/agg_snowpack/soil_avail.txt'\n",
    "elev_corr_info = import_gridcell_elevation(soil_file) \n",
    "h = get_elev_for_lat_lon(elev_corr_info,lat,lon)\n",
    "\n",
    "## get pressure \n",
    "p = estimate_p(h)\n",
    "\n",
    "## get sat vap pressure\n",
    "e_s = estimate__e_s(t_avg)\n",
    "\n",
    "## estimate relative humidity\n",
    "RH = estimate_relative_humidity(q,e_s,p)\n",
    "\n",
    "## estimate vapor pressures\n",
    "satvpd = e_s ## this was already calculated\n",
    "satvpx = estimate__e_s(tmax.air_temp_max)\n",
    "satvpn = estimate__e_s(tmin.air_temp_min)\n",
    "\n",
    "ambvp = (RH * satvpd) * (1.0/100.0)\n",
    "RHmax = 100.0 * (ambvp/satvpn)\n",
    "RHmin = 100.0 * (ambvp/satvpx)\n",
    "\n",
    "## get climate class and rainfall rate \n",
    "climat,wetrat = nfdrs_climate_class(lon)\n",
    "pptamt_in = pptamt * 0.0393701 ## convert from mm to inches \n",
    "#pptdur = np.round((pptamt/wetrat) + 0.49)\n",
    "pptdur = np.round((pptamt_in/wetrat) + 0.49)\n",
    "#print(pptdur)\n",
    "\n",
    "## convert temps to Fahrenheit (this is required for EMC calculations developed by Simard 1968)\n",
    "# ºF =(K - 273.15)* 1.8000 + 32.00\n",
    "tmin['air_temp_min'].values = ((tmin.air_temp_min.values - 273.15) * 1.8) + 32.0\n",
    "tmax['air_temp_max'].values = ((tmax.air_temp_max.values - 273.15) * 1.8) + 32.0\n",
    "t_avg.values = ((t_avg.values - 273.15) * 1.8) + 32.0\n",
    "\n",
    "## estimate EMCs\n",
    "EMCmin = estimate_emc(RHmin,tmax.air_temp_max)\n",
    "EMC = estimate_emc(RH,t_avg)\n",
    "EMCmax = estimate_emc(RHmax,tmin.air_temp_min)\n",
    "\n",
    "phi = lat * 0.01745 ## lat is in degrees \n",
    "decl = 0.41008*np.sin((julians-82) * 0.01745)\n",
    "daylit = 24 * (1.0 - ((np.arccos(np.tan(np.deg2rad(phi)) * np.tan(decl))) / math.pi))\n",
    "\n",
    "EMCbar = ((daylit * EMCmin) + (24 - daylit) * EMCmax) / 24.0 \n",
    "\n",
    "bndryh = ((24.0 - pptdur.precipitation) * (EMCbar.specific_humidity + pptdur.precipitation) * \n",
    "          (0.5 * pptdur.precipitation + 41.0 ))/24.0 \n",
    "\n",
    "################################################ calculate 100-hr timelag ######################################## \n",
    "\n",
    "## to initialize YMC100 at the beginning of a period\n",
    "YMC100_0 = 5.0 + (5.0 * climat)\n",
    "\n",
    "arr_mc100 = np.ndarray(shape=(1,len(julians)),dtype='float')\n",
    "\n",
    "for day in np.arange(len(julians)):\n",
    "    if day == 0:\n",
    "        YMC100 = YMC100_0\n",
    "    else: \n",
    "        YMC100 = arr_mc100[0,day-1]\n",
    "    arr_mc100[0,day] = YMC100 + (np.float(bndryh[0,day]) - YMC100) * (1.0 - (0.87 * np.exp(-0.24) ) )"
   ]
  },
  {
   "cell_type": "code",
   "execution_count": 51,
   "metadata": {
    "collapsed": false
   },
   "outputs": [],
   "source": [
    "# EMCbar"
   ]
  },
  {
   "cell_type": "code",
   "execution_count": 54,
   "metadata": {
    "collapsed": false
   },
   "outputs": [
    {
     "name": "stdout",
     "output_type": "stream",
     "text": [
      "<xray.DataArray ()>\n",
      "array(1092646323750.2008)\n",
      "<xray.DataArray ()>\n",
      "array(1806766289138.823)\n",
      "<xray.DataArray ()>\n",
      "array(691917450071.5898)\n",
      "<xray.Dataset>\n",
      "Dimensions:        ()\n",
      "Coordinates:\n",
      "    *empty*\n",
      "Data variables:\n",
      "    precipitation  float64 0.0\n",
      "52.8740072693\n"
     ]
    }
   ],
   "source": [
    "print(np.mean(e_s))\n",
    "print(np.mean(satvpn))\n",
    "print(np.mean(satvpx))\n",
    "print(np.min(pptdur))\n",
    "print(np.mean(arr_mc100))"
   ]
  },
  {
   "cell_type": "code",
   "execution_count": 55,
   "metadata": {
    "collapsed": false
   },
   "outputs": [
    {
     "name": "stdout",
     "output_type": "stream",
     "text": [
      "saving figure to '/raid9/gergel/agg_snowpack/dfm_gridcell'\n"
     ]
    },
    {
     "data": {
      "image/png": "[encoded data removed]",
      "text/plain": [
       "<matplotlib.figure.Figure at 0x2ab4b7248a90>"
      ]
     },
     "metadata": {},
     "output_type": "display_data"
    }
   ],
   "source": [
    "import matplotlib.pyplot as plt\n",
    "'''ds_dfm = xray.DataArray(arr_mc100)\n",
    "ds_dfm.time = tmin['time'].values\n",
    "dfm_sel = ds_dfm.sel(time=slice('1981-02-01', '1981-06-01'))\n",
    "dfm_sel['dead_fuel_moistue_100hr'].plot()'''\n",
    "f = 10958 + 366\n",
    "l = 10958 + 366 + 364\n",
    "plt.plot(np.asarray(arr_mc100)[0,0:10])\n",
    "\n",
    "## save plot\n",
    "direc = '/raid9/gergel/agg_snowpack/'\n",
    "plotname = 'dfm_gridcell' \n",
    "savepath = os.path.join(direc, plotname)\n",
    "print (\"saving figure to '%s'\" % savepath)\n",
    "plt.savefig(savepath)"
   ]
  },
  {
   "cell_type": "code",
   "execution_count": 18,
   "metadata": {
    "collapsed": false
   },
   "outputs": [
    {
     "data": {
      "text/plain": [
       "array([ -2.26033324e+05,  -1.54755477e+05,  -1.12094607e+05,\n",
       "        -8.19532385e+04,  -8.00706808e+04,  -5.45418014e+04,\n",
       "        -3.71906141e+04,  -4.25437158e+04,  -5.01934041e+04,\n",
       "        -3.66249246e+04,  -2.89456430e+04,  -2.60266305e+04,\n",
       "        -2.59919975e+04,  -3.21075155e+04,  -2.37824135e+04,\n",
       "        -1.60408151e+04,  -1.19405500e+04,  -8.77805304e+03,\n",
       "        -5.77166163e+03,  -3.69373785e+03,  -8.31784651e+03,\n",
       "        -6.92897186e+03,  -1.06100257e+04,  -8.41944643e+03,\n",
       "        -7.90360891e+03,  -5.94651718e+03,  -9.18353392e+03,\n",
       "        -1.43317043e+04,  -1.05877686e+04,  -7.18878790e+03,\n",
       "        -4.67985031e+03,  -2.94556522e+03,  -1.77078394e+03,\n",
       "        -9.93764507e+02,  -1.28170086e+03,  -5.87392566e+02,\n",
       "        -6.75000539e+02,  -6.40068881e+03,  -1.83846719e+04,\n",
       "        -1.28928207e+04,  -1.04733991e+04,  -7.11246102e+03,\n",
       "        -4.72173735e+03,  -3.05688592e+03,  -1.83068070e+03,\n",
       "        -1.51765401e+03,  -7.87304875e+02,  -5.38989552e+03,\n",
       "        -6.99383717e+03,  -5.70650151e+03,  -1.10831746e+04,\n",
       "        -1.84300463e+04,  -2.84058051e+04,  -2.05480089e+04,\n",
       "        -2.05688503e+04,  -1.38065747e+04,  -1.07325222e+04,\n",
       "        -8.71468769e+03,  -6.13999681e+03,  -4.14235025e+03,\n",
       "        -3.95772004e+03,  -3.07128622e+03,  -4.38589114e+03,\n",
       "        -1.85850240e+04,  -1.73600007e+04,  -3.34255017e+04,\n",
       "        -2.32387132e+04,  -1.62253046e+04,  -1.63874597e+04,\n",
       "        -1.26755985e+04,  -1.30918726e+04,  -8.74560611e+03,\n",
       "        -9.25391353e+03,  -1.28150065e+04,  -8.94991263e+03,\n",
       "        -7.21339115e+03,  -6.28824075e+03,  -4.24407440e+03,\n",
       "        -4.87861542e+03,  -1.40035161e+04,  -2.50020255e+04,\n",
       "        -1.68238706e+04,  -1.17808250e+04,  -7.93933045e+03,\n",
       "        -5.35470154e+03,  -3.58950497e+03,  -2.23066248e+03,\n",
       "        -1.34244788e+03,  -6.81980608e+02,  -2.70052199e+02,\n",
       "        -1.50009718e+03,  -8.01357284e+02,  -5.21533823e+02,\n",
       "        -5.79596947e+02,  -5.44993835e+03,  -3.67073646e+03,\n",
       "        -3.88536431e+03,  -2.41701439e+03,  -1.38634872e+03,\n",
       "        -7.14765278e+02,  -2.52256149e+02,   6.29315840e+01,\n",
       "        -2.16824554e+02,  -1.80368865e+02,  -5.39268493e+02,\n",
       "        -1.04588861e+02,   1.42425045e+02,  -1.01995193e+03,\n",
       "        -1.33613231e+04,  -8.86890784e+03,  -5.80291918e+03,\n",
       "        -3.76986419e+03,  -2.35672310e+03,  -1.41408794e+03,\n",
       "        -8.37522266e+02,  -3.45099738e+02,  -1.87565838e+03,\n",
       "        -1.04630191e+03,  -5.04785534e+02,  -7.72411296e+01,\n",
       "        -9.86445309e+02,  -4.20538409e+02,  -5.54148515e+01,\n",
       "         1.84043088e+02,   3.99776190e+02,   5.53152368e+02,\n",
       "         6.06090381e+02,   5.90494331e+02,   6.06893355e+02,\n",
       "         6.13809339e+02,   5.73776569e+02,   5.59008462e+02,\n",
       "         5.93239823e+02,   6.72964469e+02,   4.60554163e+02,\n",
       "        -9.71824677e+01,   1.75181952e+02,   3.29147621e+02,\n",
       "         4.25079596e+02,   4.39549941e+02,   5.76889425e+02,\n",
       "         5.25061751e+02,   6.39453945e+02,   6.77473284e+02,\n",
       "         6.95096325e+02,   6.59788834e+02,   6.68686429e+02,\n",
       "         6.42146604e+02,   6.38347092e+02,   6.59422560e+02,\n",
       "         6.37303695e+02,   6.78531839e+02,   6.04309893e+02,\n",
       "         5.44390456e+02,   5.66054123e+02,   5.67920122e+02,\n",
       "         5.75058792e+02,   4.96398519e+02,  -1.56526780e+02,\n",
       "        -7.09436390e+02,  -2.33151447e+02,   9.42212465e+01,\n",
       "         2.66501874e+02,  -2.17125312e+03,  -2.85497947e+03,\n",
       "        -1.68972988e+03,  -9.22168646e+02,  -4.47030369e+02,\n",
       "        -1.09838129e+02,   1.26629398e+02,   1.18343257e+02,\n",
       "        -4.61025634e+03,  -4.83550239e+03,  -3.07752534e+03,\n",
       "        -1.88801620e+03,  -1.10716462e+03,  -5.72887140e+02,\n",
       "        -1.76538431e+02,   1.36943060e+02,   3.48197491e+02,\n",
       "         4.89051524e+02,   5.83169644e+02,   6.40143304e+02,\n",
       "         6.55159164e+02,   6.49092689e+02,   6.55217100e+02,\n",
       "         7.03589233e+02,   7.22178730e+02,   6.55751749e+02,\n",
       "         6.78721827e+02,   7.25332864e+02,   7.49939016e+02,\n",
       "         7.73618294e+02,   7.91924828e+02,   7.99030549e+02,\n",
       "         7.80922452e+02,   7.23341351e+02,   6.52761694e+02,\n",
       "         5.83763605e+02,   6.15799876e+02,   6.53091776e+02,\n",
       "         6.84937473e+02,   6.43816364e+02,   6.28865385e+02,\n",
       "         6.36170348e+02,   6.71958707e+02,   6.88850883e+02,\n",
       "         6.91999380e+02,   6.63449849e+02,   6.74412946e+02,\n",
       "         6.66506133e+02,   6.73404563e+02,   6.88099289e+02,\n",
       "         6.89070394e+02,   7.17081703e+02,   7.21323966e+02,\n",
       "         7.12496535e+02,   6.95897090e+02,   6.27488715e+02,\n",
       "         5.87759818e+02,   6.32214109e+02,   6.51513607e+02,\n",
       "         6.00581971e+02,   6.17215379e+02,   6.28300144e+02,\n",
       "         6.52986206e+02,  -1.74098683e+03,  -9.23038986e+02,\n",
       "        -3.76742864e+02,  -2.67059674e+01,   1.74058336e+02,\n",
       "         2.94956119e+02,   3.92536643e+02,   4.46176135e+02,\n",
       "         4.36276510e+02,   3.95281302e+02,   3.79671484e+02,\n",
       "         3.89183787e+02,   3.83252968e+02,   4.59080786e+02,\n",
       "         1.77279650e+02,   3.91757649e+02,   4.72349194e+02,\n",
       "        -1.59171713e+01,  -1.08931747e+01,   2.37975764e+02,\n",
       "         3.51787645e+02,   5.05872496e+02,   5.30342143e+02,\n",
       "        -1.13800013e+03,  -2.48638936e+03,  -1.51510276e+03,\n",
       "        -3.05123535e+03,  -9.47711715e+03,  -6.51882669e+03,\n",
       "        -4.22808609e+03,  -1.11186720e+04,  -7.79338652e+03,\n",
       "        -5.08939478e+03,  -3.28266445e+03,  -2.07249765e+03,\n",
       "        -1.20707309e+03,  -6.04041961e+02,  -2.18787276e+02,\n",
       "         9.39356609e+00,   1.77655316e+02,   3.18861672e+02,\n",
       "         4.69540805e+02,  -1.99474830e+02,   1.34770093e+02,\n",
       "         3.13577452e+02,   4.13955609e+02,   1.51740771e+02,\n",
       "         2.32366682e+02,   4.26287964e+02,   4.82262583e+02,\n",
       "         5.33935259e+02,   5.73286994e+02,   4.45283770e+02,\n",
       "         5.45223567e+02,  -2.54083634e+03,  -1.47358677e+03,\n",
       "        -7.90807330e+02,  -2.94134605e+02,   2.93561503e+01,\n",
       "         2.57249092e+02,   4.16600599e+02,   5.24460833e+02,\n",
       "         4.13130321e+02,  -5.33137335e+03,  -3.74954269e+03,\n",
       "        -3.02401454e+03,  -1.86640315e+03,  -7.56754940e+03,\n",
       "        -6.79295060e+03,  -4.59433927e+03,  -3.61091350e+03,\n",
       "        -8.66019526e+03,  -2.23859986e+04,  -1.50851090e+04,\n",
       "        -1.27888447e+04,  -8.57449671e+03,  -6.26803238e+03,\n",
       "        -1.82259893e+04,  -3.94315401e+04,  -2.67931558e+04,\n",
       "        -1.80978166e+04,  -1.21365632e+04,  -8.05849302e+03,\n",
       "        -5.88250908e+03,  -1.02927639e+04,  -1.10413649e+04,\n",
       "        -7.29017471e+03,  -5.16050161e+03,  -3.27279004e+03,\n",
       "        -9.00263565e+03,  -6.10318055e+03,  -3.92215551e+03,\n",
       "        -2.43344005e+03,  -1.43735091e+03,  -8.39121893e+03,\n",
       "        -5.92349733e+03,  -1.61477305e+04,  -1.61742877e+04,\n",
       "        -1.16648403e+04,  -8.31748680e+03,  -5.47222386e+03,\n",
       "        -3.45763900e+03,  -2.40015815e+03,  -7.12750887e+03,\n",
       "        -4.76546998e+03,  -7.31675330e+03,  -6.05572868e+03,\n",
       "        -6.91804595e+03,  -1.20113230e+04,  -2.51522475e+04,\n",
       "        -2.03126573e+04,  -1.36921574e+04,  -1.22499850e+04,\n",
       "        -3.04596989e+05,  -2.12296214e+05,  -1.45061145e+05,\n",
       "        -9.90627786e+04,  -6.75855122e+04,  -5.04167265e+04,\n",
       "        -3.56625609e+04,  -2.51433276e+04,  -1.78005002e+04,\n",
       "        -1.31939014e+04,  -2.14603291e+04,  -1.44148388e+04,\n",
       "        -9.66955004e+03,  -1.86634404e+04,  -2.82958421e+04,\n",
       "        -7.53997005e+04,  -5.13328357e+04,  -3.48800877e+04,\n",
       "        -2.36519705e+04,  -1.59416793e+04,  -1.44767178e+04,\n",
       "        -9.82898949e+03,  -6.54150235e+03,  -4.50778992e+03,\n",
       "        -2.85481527e+03])"
      ]
     },
     "execution_count": 18,
     "metadata": {},
     "output_type": "execute_result"
    }
   ],
   "source": [
    "'''tmin['time'][10958 + 366]\n",
    "tmin['time'][10958 + 366 + 364]'''\n",
    "np.asarray(arr_mc100)[0,f:l]"
   ]
  },
  {
   "cell_type": "code",
   "execution_count": 19,
   "metadata": {
    "collapsed": false
   },
   "outputs": [
    {
     "data": {
      "text/plain": [
       "<xray.Dataset>\n",
       "Dimensions:            ()\n",
       "Coordinates:\n",
       "    *empty*\n",
       "Data variables:\n",
       "    specific_humidity  float64 67.27"
      ]
     },
     "execution_count": 19,
     "metadata": {},
     "output_type": "execute_result"
    }
   ],
   "source": [
    "np.mean(RH)"
   ]
  },
  {
   "cell_type": "code",
   "execution_count": null,
   "metadata": {
    "collapsed": true
   },
   "outputs": [],
   "source": []
  }
 ],
 "metadata": {
  "kernelspec": {
   "display_name": "Python 2",
   "language": "python",
   "name": "python2"
  },
  "language_info": {
   "codemirror_mode": {
    "name": "ipython",
    "version": 2
   },
   "file_extension": ".py",
   "mimetype": "text/x-python",
   "name": "python",
   "nbconvert_exporter": "python",
   "pygments_lexer": "ipython2",
   "version": "2.7.11"
  }
 },
 "nbformat": 4,
 "nbformat_minor": 0
}
