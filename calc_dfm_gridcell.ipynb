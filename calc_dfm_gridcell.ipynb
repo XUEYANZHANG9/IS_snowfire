{
 "cells": [
  {
   "cell_type": "markdown",
   "metadata": {},
   "source": [
    "FUNCTIONS FOR SCRIPT"
   ]
  },
  {
   "cell_type": "code",
   "execution_count": 46,
   "metadata": {
    "collapsed": true
   },
   "outputs": [],
   "source": [
    "%matplotlib inline\n",
    "\n",
    "def estimate__e_s(T): \n",
    "    from xray import ufuncs\n",
    "    T0 = 273.15 ## Kelvin, reference temperature\n",
    "    e_s = 611 * ufuncs.exp((17.67 * (T - T0)) / (T - 29.65) )\n",
    "    return(e_s)\n",
    "\n",
    "def estimate_p(h):\n",
    "    p = 101325 * (1 - ((2.25577 * 10**-5) * h))**5.25588 ## Pascals \n",
    "    return(p)\n",
    "\n",
    "def estimate_relative_humidity(q,e_s,p):\n",
    "    ## estimates relative humidity using hypsometric equation for pressure, virtual temperature and \n",
    "    ## average temperature \n",
    "    import numpy as np\n",
    "    w = q ## approximating the mixing ratio as the specific humidity\n",
    "    w_s = 0.622 * (e_s / p)\n",
    "    RH = 100.0 * (w / w_s)\n",
    "    return (RH)\n",
    "\n",
    "def estimate_emc(RH,T):\n",
    "    if RH < 10: \n",
    "        EMC = 0.03229 + (0.281073 * RH) - (0.000578 * T * RH)\n",
    "    elif RH >= 10 and RH <= 50:\n",
    "        EMC = 2.22749 + (0.160107*RH) - (0.014784*T)\n",
    "    else: \n",
    "        EMC = 21.0606 + (0.005565*(RH**2)) - (0.00035*RH*T) - (0.483199*RH)\n",
    "    return(EMC)\n",
    "\n",
    "def estimate_emc_rh(RH,T):\n",
    "    if RH.relative_humidity < 10: \n",
    "        EMC = 0.03229 + (0.281073 * RH.relative_humidity) - (0.000578 * T * RH.relative_humidity)\n",
    "    elif RH.relative_humidity >= 10 and RH.relative_humidity <= 50:\n",
    "        EMC = 2.22749 + (0.160107*RH.relative_humidity) - (0.014784*T)\n",
    "    else: \n",
    "        EMC = 21.0606 + (0.005565*(RH.relative_humidity**2)) - (0.00035*RH.relative_humidity*T) - (0.483199*RH.relative_humidity)\n",
    "    return(EMC)\n",
    "\n",
    "\n",
    "def nfdrs_climate_class(lon):\n",
    "    ## use eastern boundary of the Cascades to delineate (this might need refinement)\n",
    "    if lon > -122.5:\n",
    "        climate_class = 2\n",
    "        wetrat = 0.25\n",
    "    else:\n",
    "        climate_class = 3\n",
    "        wetrat = 0.05\n",
    "    return(climate_class,wetrat)\n",
    "\n",
    "def Kelvin_to_Fahrenheit(T_dataset,T_time):\n",
    "    ## convert temps to Fahrenheit (this is required for EMC calculations developed by Simard 1968)\n",
    "    # ºF =(K - 273.15)* 1.8000 + 32.00\n",
    "    if (T_time == \"tmin\"):\n",
    "        T_dataset['air_temp_min'].values = ((T_dataset.air_temp_min.values - 273.15) * 1.8) + 32.0\n",
    "    elif (T_time == \"tmax\"):\n",
    "        T_dataset['air_temp_max'].values = ((T_dataset.air_temp_max.values - 273.15) * 1.8) + 32.0\n",
    "    else:\n",
    "        T_dataset.values = ((T_dataset.values - 273.15) * 1.8) + 32.0\n",
    "    return(T_dataset)"
   ]
  },
  {
   "cell_type": "markdown",
   "metadata": {},
   "source": [
    "LOAD IS SIMULATIONS DATA"
   ]
  },
  {
   "cell_type": "code",
   "execution_count": 47,
   "metadata": {
    "collapsed": false
   },
   "outputs": [
    {
     "name": "stdout",
     "output_type": "stream",
     "text": [
      "The autoreload extension is already loaded. To reload it, use:\n",
      "  %reload_ext autoreload\n"
     ]
    },
    {
     "data": {
      "text/plain": [
       "18376"
      ]
     },
     "execution_count": 47,
     "metadata": {},
     "output_type": "execute_result"
    }
   ],
   "source": [
    "## note this forcing data is for the entire CONUS so i need to mask out what isn't in the CRB \n",
    "## note: for masking, ufunc functions can be used directly on a DataArray\n",
    "%load_ext autoreload\n",
    "################################# INPUTS #############################\n",
    "lat = 48.03125\n",
    "lon = -121.28125\n",
    "######################################################################\n",
    "import numpy as np\n",
    "import xray\n",
    "from xray import ufuncs\n",
    "import os\n",
    "import math \n",
    "import gc \n",
    "import pandas as pd \n",
    "\n",
    "basin = \"cascades\"\n",
    "model = \"CCSM4\"\n",
    "scenario = \"historical\"\n",
    "\n",
    "direc = '/raid/gergel/%s' % \"tmin\"\n",
    "tmin_file = \"%s_%s_%s.nc\" % (model,scenario,\"tasmin\")\n",
    "tmin_full = xray.open_dataset(os.path.join(direc,tmin_file)) ## load tmin\n",
    "\n",
    "direc = '/raid/gergel/%s' % \"tmax\"\n",
    "tmax_file = \"%s_%s_%s.nc\" % (model,scenario,\"tasmax\")\n",
    "tmax_full = xray.open_dataset(os.path.join(direc,tmax_file)) ## load tmax\n",
    "\n",
    "direc = '/raid/gergel/%s' % \"rh\"\n",
    "sh_file = \"%s_%s_%s.nc\" % (model,scenario,\"huss\")\n",
    "q_full = xray.open_dataset(os.path.join(direc,sh_file)) ## load specific humidity \n",
    "\n",
    "direc = '/raid/gergel/%s' % \"precip\"\n",
    "pr_file = \"%s_%s_%s.nc\" % (model,scenario,\"pr\")\n",
    "pr_full = xray.open_dataset(os.path.join(direc,pr_file)) ## load precip\n",
    "\n",
    "## adjust lat/lon dimensions since the index names are different\n",
    "tmin_lons_new = tmin_full['lon'].values[tmin_full['lon'].values > 180] - 360 \n",
    "tmin_full['lon'] = tmin_lons_new\n",
    "tmax_full['lon'] = tmin_lons_new\n",
    "q_full['lon'] = tmin_lons_new \n",
    "pr_full['lon'] = tmin_lons_new\n",
    "\n",
    "## select out gridcell \n",
    "lon_ind = np.where(np.asarray(tmin_full.lon).astype('|S10') == np.str(lon))[0][0]\n",
    "lat_ind = np.where(np.asarray(tmin_full.lat).astype('|S8') == np.str(lat))[0][0]\n",
    "\n",
    "## get julian days \n",
    "julians = pd.DatetimeIndex(np.asarray(pr_full.time)).dayofyear\n",
    "\n",
    "# tmin = tmin_full[:,lat_ind,lon_ind]\n",
    "tmin = tmin_full.isel_points(lon=[lon_ind],lat=[lat_ind])\n",
    "tmax = tmax_full.isel_points(lon=[lon_ind],lat=[lat_ind])\n",
    "q = q_full.isel_points(lon=[lon_ind],lat=[lat_ind])\n",
    "pptamt = pr_full.isel_points(lon=[lon_ind],lat=[lat_ind])\n",
    "\n",
    "\n",
    "del tmin_full,tmax_full, q_full,pr_full\n",
    "gc.collect() "
   ]
  },
  {
   "cell_type": "markdown",
   "metadata": {},
   "source": [
    "GET DFM FROM IS SIMULATIONS DATA"
   ]
  },
  {
   "cell_type": "code",
   "execution_count": 48,
   "metadata": {
    "collapsed": false
   },
   "outputs": [],
   "source": [
    "t_avg = (tmin.air_temp_min + tmax.air_temp_max)/2.0\n",
    "\n",
    "## get elevation of grid cell\n",
    "from snowpack_functions import get_elev_for_lat_lon,import_gridcell_elevation \n",
    "soil_file = '/raid9/gergel/agg_snowpack/soil_avail.txt'\n",
    "elev_corr_info = import_gridcell_elevation(soil_file) \n",
    "h = get_elev_for_lat_lon(elev_corr_info,lat,lon)\n",
    "\n",
    "## get pressure \n",
    "p = estimate_p(h)\n",
    "\n",
    "## get sat vap pressure\n",
    "e_s = estimate__e_s(t_avg)\n",
    "#e_s = estimate__e_s(tmin.air_temp_min) ## try using minimum air temperature rather than average \n",
    "\n",
    "## estimate relative humidity\n",
    "RH = estimate_relative_humidity(q,e_s,p)\n",
    "\n",
    "## if RH > 100, RH = 100\n",
    "RH_new_vals = np.ndarray(shape=(1,len(RH.specific_humidity.values[0,:])),dtype='float')\n",
    "for val in np.arange(len(RH.specific_humidity.values[0,:])):\n",
    "    if RH.specific_humidity.values[0,val] > 100:\n",
    "        RH_new_vals[0,val] = 100\n",
    "    else:\n",
    "        RH_new_vals[0,val] = RH.specific_humidity.values[0,val]\n",
    "RH.specific_humidity.values = RH_new_vals\n",
    "\n",
    "## estimate vapor pressures\n",
    "satvpd = e_s ## this was already calculated\n",
    "satvpx = estimate__e_s(tmax.air_temp_max)\n",
    "satvpn = estimate__e_s(tmin.air_temp_min)\n",
    "\n",
    "ambvp = (RH * satvpd) / 100.0\n",
    "RHmax = 100.0 * (ambvp/satvpn)\n",
    "RHmin = 100.0 * (ambvp/satvpx)\n",
    "\n",
    "## if RHmax > 100, RHmax = 100\n",
    "RHmax_new_vals = np.ndarray(shape=(1,len(RHmax.specific_humidity.values[0,:])),dtype='float')\n",
    "for val in np.arange(len(RHmax.specific_humidity.values[0,:])):\n",
    "    if RHmax.specific_humidity.values[0,val] > 100:\n",
    "        RHmax_new_vals[0,val] = 100\n",
    "    else:\n",
    "        RHmax_new_vals[0,val] = RHmax.specific_humidity.values[0,val]\n",
    "RHmax.specific_humidity.values = RHmax_new_vals\n",
    "\n",
    "## get climate class and rainfall rate \n",
    "climat,wetrat = nfdrs_climate_class(lon)\n",
    "pptamt_in = pptamt * 0.0393701 ## convert from mm to inches \n",
    "pptdur = ufuncs.rint((pptamt_in/wetrat) + 0.49)\n",
    "\n",
    "## convert temps to Fahrenheit\n",
    "tmax_F = Kelvin_to_Fahrenheit(tmax,\"tmax\")\n",
    "tmin_F = Kelvin_to_Fahrenheit(tmin,\"tmin\")\n",
    "t_avg_F = Kelvin_to_Fahrenheit(t_avg,\"t_avg\")\n",
    "\n",
    "## estimate EMCs\n",
    "EMCmin = estimate_emc(RHmin,tmax_F.air_temp_max)\n",
    "#EMC = estimate_emc(RH,t_avg)\n",
    "EMC = estimate_emc(RH,tmin_F.air_temp_min)\n",
    "#EMC = EMCmin\n",
    "# EMCmin = EMC\n",
    "EMCmax = estimate_emc(RHmax,tmin_F.air_temp_min)\n",
    "# EMCMAX = 0.15\n",
    "\n",
    "phi = lat * 0.01745 ## lat is in degrees \n",
    "decl = 0.41008*np.sin((julians-82) * 0.01745)\n",
    "daylit = 24 * (1.0 - ((np.arccos(np.tan(np.deg2rad(phi)) * np.tan(decl))) / math.pi))\n",
    "\n",
    "EMCbar = ((daylit * EMCmin) + (24 - daylit) * EMCmax) / 24.0 \n",
    "\n",
    "bndryh = ( ( (24.0 - pptdur.precipitation) * EMCbar.specific_humidity) + pptdur.precipitation * \n",
    "          ( (0.5 * pptdur.precipitation) + 41.0 ) )/ 24.0 \n",
    "\n",
    "################################################ calculate 100-hr timelag ######################################## \n",
    "\n",
    "## to initialize YMC100 at the beginning of a period\n",
    "YMC100_0 = 5.0 + (5.0 * climat)\n",
    "\n",
    "arr_mc100 = np.ndarray(shape=(len(julians)),dtype='float')\n",
    "\n",
    "for day in np.arange(len(julians)):\n",
    "    if day == 0:\n",
    "        YMC100 = YMC100_0\n",
    "    else: \n",
    "        YMC100 = arr_mc100[day-1]\n",
    "    arr_mc100[day] = YMC100 + (np.float(bndryh.values[0,day]) - YMC100) * (1.0 - (0.87 * np.exp(-0.24) ) )"
   ]
  },
  {
   "cell_type": "markdown",
   "metadata": {},
   "source": [
    "LOAD UI METDATA FOR DFM COMPARISON WITH IS DATA"
   ]
  },
  {
   "cell_type": "code",
   "execution_count": 49,
   "metadata": {
    "collapsed": false
   },
   "outputs": [
    {
     "data": {
      "text/plain": [
       "1849"
      ]
     },
     "execution_count": 49,
     "metadata": {},
     "output_type": "execute_result"
    }
   ],
   "source": [
    "################################# INPUTS #############################\n",
    "lat = 48.03125\n",
    "lon = -121.28125\n",
    "######################################################################\n",
    "\n",
    "direc = '/raid/gergel/dfm_ui_metdata'\n",
    "tmin_file1 = \"tmmn_%s.nc\" % \"1981\"\n",
    "tmin_file2 = \"tmmn_%s.nc\" % \"1982\"\n",
    "tmin_full1 = xray.open_dataset(os.path.join(direc,tmin_file1)) ## load tmin\n",
    "tmin_full2 = xray.open_dataset(os.path.join(direc,tmin_file2)) ## load tmin\n",
    "tmin_full = xray.concat([tmin_full1, tmin_full2], dim='day')\n",
    "\n",
    "tmax_file1 = \"tmmx_%s.nc\" % \"1981\"\n",
    "tmax_file2 = \"tmmx_%s.nc\" % \"1982\"\n",
    "tmax_full1 = xray.open_dataset(os.path.join(direc,tmax_file1)) ## load tmax\n",
    "tmax_full2 = xray.open_dataset(os.path.join(direc,tmax_file2)) ## load tmax\n",
    "tmax_full = xray.concat([tmax_full1,tmax_full2], dim='day')\n",
    "\n",
    "rhmin_file1 = \"rmin_%s.nc\" % \"1981\"\n",
    "rhmin_file2 = \"rmin_%s.nc\" % \"1982\"\n",
    "rhmin_full1 = xray.open_dataset(os.path.join(direc,rhmin_file1)) ## load rhmin\n",
    "rhmin_full2 = xray.open_dataset(os.path.join(direc,rhmin_file2)) \n",
    "rhmin_full = xray.concat([rhmin_full1,rhmin_full2], dim='day')\n",
    "\n",
    "rhmax_file1 = \"rmax_%s.nc\" % \"1981\"\n",
    "rhmax_file2 = \"rmax_%s.nc\" % \"1982\"\n",
    "rhmax_full1 = xray.open_dataset(os.path.join(direc,rhmax_file1)) ## load rhmin\n",
    "rhmax_full2 = xray.open_dataset(os.path.join(direc,rhmax_file2)) \n",
    "rhmax_full = xray.concat([rhmax_full1,rhmax_full2], dim='day')\n",
    "\n",
    "q_file1 = \"sph_%s.nc\" % \"1981\"\n",
    "q_file2 = \"sph_%s.nc\" % \"1982\"\n",
    "q_full1 = xray.open_dataset(os.path.join(direc,q_file1)) \n",
    "q_full2 = xray.open_dataset(os.path.join(direc,q_file2)) ## load specific humidity\n",
    "q_full = xray.concat([q_full1,q_full2], dim='day')\n",
    "\n",
    "pr_file1 = \"pr_%s.nc\" % \"1981\"\n",
    "pr_file2 = \"pr_%s.nc\" % \"1982\"\n",
    "pr_full1 = xray.open_dataset(os.path.join(direc,pr_file1)) \n",
    "pr_full2 = xray.open_dataset(os.path.join(direc,pr_file2)) ## load precip\n",
    "pr_full = xray.concat([pr_full1,pr_full2], dim='day')\n",
    "\n",
    "## select out gridcell \n",
    "\n",
    "lon_ind = np.argmin(np.abs(pr_full.lon - lon))\n",
    "lat_ind = np.argmin(np.abs(pr_full.lat - lat))\n",
    "\n",
    "## get julian days \n",
    "julians = pd.DatetimeIndex(np.asarray(pr_full.day)).dayofyear\n",
    "\n",
    "# tmin = tmin_full[:,lat_ind,lon_ind]\n",
    "tmin = tmin_full.isel_points(lon=[lon_ind],lat=[lat_ind])\n",
    "tmax = tmax_full.isel_points(lon=[lon_ind],lat=[lat_ind])\n",
    "q = q_full.isel_points(lon=[lon_ind],lat=[lat_ind])\n",
    "pptamt = pr_full.isel_points(lon=[lon_ind],lat=[lat_ind])\n",
    "rhmin = rhmin_full.isel_points(lon=[lon_ind],lat=[lat_ind])\n",
    "rhmax = rhmax_full.isel_points(lon=[lon_ind],lat=[lat_ind])\n",
    "\n",
    "del tmin_full,tmax_full, q_full,pr_full,rhmin_full,rhmax_full\n",
    "gc.collect() "
   ]
  },
  {
   "cell_type": "code",
   "execution_count": 50,
   "metadata": {
    "collapsed": false
   },
   "outputs": [
    {
     "data": {
      "text/plain": [
       "<xray.Dataset>\n",
       "Dimensions:            (day: 730, points: 1)\n",
       "Coordinates:\n",
       "  * day                (day) datetime64[ns] 1981-01-01 1981-01-02 1981-01-03 ...\n",
       "    lat                (points) float32 48.021\n",
       "    lon                (points) float32 -121.272\n",
       "  * points             (points) int64 0\n",
       "Data variables:\n",
       "    relative_humidity  (points, day) float64 100.0 92.01 89.06 96.11 100.0 ...\n",
       "Attributes:\n",
       "    author: John Abatzoglou - University of Idaho, jabatzoglou@uidaho.edu\n",
       "    date: 18 May 2012\n",
       "    note1: The projection information for this file is: GCS WGS 1984.\n",
       "    note2: Citation: Abatzoglou, J.T., 2012, Development of gridded surface meteorological data for ecological applications and modeling, International Journal of Climatology, DOI: 10.1002/joc.3413"
      ]
     },
     "execution_count": 50,
     "metadata": {},
     "output_type": "execute_result"
    }
   ],
   "source": [
    "rhmax"
   ]
  },
  {
   "cell_type": "markdown",
   "metadata": {},
   "source": [
    "CALCULATE DFM FOR UI METDATA USING EXACT INPUTS (SPECIFIC HUMIDITY)"
   ]
  },
  {
   "cell_type": "code",
   "execution_count": 51,
   "metadata": {
    "collapsed": false
   },
   "outputs": [],
   "source": [
    "tmin.rename({\"air_temperature\": \"air_temp_min\"},inplace=True)\n",
    "tmax.rename({\"air_temperature\": \"air_temp_max\"},inplace=True)\n",
    "pptamt.rename({\"precipitation_amount\": \"precipitation\"},inplace=True)\n",
    "\n",
    "t_avg = (tmin.air_temp_min + tmax.air_temp_max)/2.0\n",
    "\n",
    "## get elevation of grid cell\n",
    "from snowpack_functions import get_elev_for_lat_lon,import_gridcell_elevation \n",
    "soil_file = '/raid9/gergel/agg_snowpack/soil_avail.txt'\n",
    "elev_corr_info = import_gridcell_elevation(soil_file) \n",
    "h = get_elev_for_lat_lon(elev_corr_info,lat,lon)\n",
    "\n",
    "## get pressure \n",
    "p = estimate_p(h)\n",
    "\n",
    "## get sat vap pressure\n",
    "e_s = estimate__e_s(t_avg)\n",
    "#e_s = estimate__e_s(tmin.air_temp_min) ## try using minimum air temperature rather than average \n",
    "\n",
    "## estimate relative humidity\n",
    "RH = estimate_relative_humidity(q,e_s,p)\n",
    "\n",
    "## if RH > 100, RH = 100\n",
    "RH_new_vals = np.ndarray(shape=(1,len(RH.specific_humidity.values[0,:])),dtype='float')\n",
    "for val in np.arange(len(RH.specific_humidity.values[0,:])):\n",
    "    if RH.specific_humidity.values[0,val] > 100:\n",
    "        RH_new_vals[0,val] = 100\n",
    "    else:\n",
    "        RH_new_vals[0,val] = RH.specific_humidity.values[0,val]\n",
    "RH.specific_humidity.values = RH_new_vals\n",
    "\n",
    "## estimate vapor pressures\n",
    "satvpd = e_s ## this was already calculated\n",
    "satvpx = estimate__e_s(tmax.air_temp_max)\n",
    "satvpn = estimate__e_s(tmin.air_temp_min)\n",
    "\n",
    "ambvp = (RH * satvpd) / 100.0\n",
    "RHmax = 100.0 * (ambvp/satvpn)\n",
    "RHmin = 100.0 * (ambvp/satvpx)\n",
    "\n",
    "## if RHmax > 100, RHmax = 100\n",
    "RHmax_new_vals = np.ndarray(shape=(1,len(RHmax.specific_humidity.values[0,:])),dtype='float')\n",
    "for val in np.arange(len(RHmax.specific_humidity.values[0,:])):\n",
    "    if RHmax.specific_humidity.values[0,val] > 100:\n",
    "        RHmax_new_vals[0,val] = 100\n",
    "    else:\n",
    "        RHmax_new_vals[0,val] = RHmax.specific_humidity.values[0,val]\n",
    "RHmax.specific_humidity.values = RHmax_new_vals\n",
    "\n",
    "## get climate class and rainfall rate \n",
    "climat,wetrat = nfdrs_climate_class(lon)\n",
    "pptamt_in = pptamt * 0.0393701 ## convert from mm to inches \n",
    "pptdur = ufuncs.rint((pptamt_in/wetrat) + 0.49)\n",
    "\n",
    "## convert temps to Fahrenheit\n",
    "tmax_F = Kelvin_to_Fahrenheit(tmax,\"tmax\")\n",
    "tmin_F = Kelvin_to_Fahrenheit(tmin,\"tmin\")\n",
    "t_avg_F = Kelvin_to_Fahrenheit(t_avg,\"t_avg\")\n",
    "\n",
    "## estimate EMCs\n",
    "EMCmin = estimate_emc(RHmin,tmax_F.air_temp_max)\n",
    "#EMC = estimate_emc(RH,t_avg)\n",
    "EMC = estimate_emc(RH,tmin_F.air_temp_min)\n",
    "#EMC = EMCmin\n",
    "# EMCmin = EMC\n",
    "EMCmax = estimate_emc(RHmax,tmin_F.air_temp_min)\n",
    "# EMCMAX = 0.15\n",
    "\n",
    "phi = lat * 0.01745 ## lat is in degrees \n",
    "decl = 0.41008*np.sin((julians-82) * 0.01745)\n",
    "daylit = 24 * (1.0 - ((np.arccos(np.tan(np.deg2rad(phi)) * np.tan(decl))) / math.pi))\n",
    "\n",
    "EMCbar = ((daylit * EMCmin) + (24 - daylit) * EMCmax) / 24.0 \n",
    "\n",
    "bndryh = ( ( (24.0 - pptdur.precipitation) * EMCbar.specific_humidity) + pptdur.precipitation * \n",
    "          ( (0.5 * pptdur.precipitation) + 41.0 ) )/ 24.0 \n",
    "\n",
    "################################################ calculate 100-hr timelag ######################################## \n",
    "\n",
    "## to initialize YMC100 at the beginning of a period\n",
    "YMC100_0 = 5.0 + (5.0 * climat)\n",
    "\n",
    "arr_mc100_ui = np.ndarray(shape=(len(julians)),dtype='float')\n",
    "\n",
    "for day in np.arange(len(julians)):\n",
    "    if day == 0:\n",
    "        YMC100 = YMC100_0\n",
    "    else: \n",
    "        YMC100 = arr_mc100[day-1]\n",
    "    arr_mc100_ui[day] = YMC100 + (np.float(bndryh.values[0,day]) - YMC100) * (1.0 - (0.87 * np.exp(-0.24) ) )"
   ]
  },
  {
   "cell_type": "markdown",
   "metadata": {},
   "source": [
    "CALCULATE DFM FOR UI METDATA USING DIFFERENT INPUTS (RELATIVE HUMIDITY INSTEAD OF SPECIFIC HUMIDITY)"
   ]
  },
  {
   "cell_type": "code",
   "execution_count": 52,
   "metadata": {
    "collapsed": false
   },
   "outputs": [],
   "source": [
    "## get pressure \n",
    "p = estimate_p(h)\n",
    "\n",
    "## get sat vap pressure\n",
    "e_s = estimate__e_s(t_avg)\n",
    "\n",
    "## estimate relative humidity\n",
    "RH = (rhmin + rhmax)/2.0\n",
    "\n",
    "## estimate vapor pressures\n",
    "satvpd = e_s ## this was already calculated\n",
    "satvpx = estimate__e_s(tmax.air_temp_max)\n",
    "satvpn = estimate__e_s(tmin.air_temp_min)\n",
    "\n",
    "ambvp = (RH * satvpd) / 100.0\n",
    "RHmax = rhmax\n",
    "RHmin = rhmin\n",
    "\n",
    "## get climate class and rainfall rate \n",
    "climat,wetrat = nfdrs_climate_class(lon)\n",
    "pptamt_in = pptamt * 0.0393701 ## convert from mm to inches \n",
    "pptdur = ufuncs.rint((pptamt_in/wetrat) + 0.49)\n",
    "\n",
    "## convert temps to Fahrenheit\n",
    "tmax_F = Kelvin_to_Fahrenheit(tmax,\"tmax\")\n",
    "tmin_F = Kelvin_to_Fahrenheit(tmin,\"tmin\")\n",
    "t_avg_F = Kelvin_to_Fahrenheit(t_avg,\"t_avg\")\n",
    "\n",
    "## estimate EMCs\n",
    "EMCmin = estimate_emc(RHmin,tmax_F.air_temp_max)\n",
    "EMC = estimate_emc(RH,tmin_F.air_temp_min)\n",
    "EMCmax = estimate_emc(RHmax,tmin_F.air_temp_min)\n",
    "\n",
    "phi = lat * 0.01745 ## lat is in degrees \n",
    "decl = 0.41008*np.sin((julians-82) * 0.01745)\n",
    "daylit = 24 * (1.0 - ((np.arccos(np.tan(np.deg2rad(phi)) * np.tan(decl))) / math.pi))\n",
    "\n",
    "EMCbar = ((daylit * EMCmin) + (24 - daylit) * EMCmax) / 24.0 \n",
    "\n",
    "bndryh = ( ( (24.0 - pptdur.precipitation) * EMCbar.relative_humidity) + pptdur.precipitation * \n",
    "          ( (0.5 * pptdur.precipitation) + 41.0 ) )/ 24.0 \n",
    "\n",
    "################################################ calculate 100-hr timelag ######################################## \n",
    "\n",
    "## to initialize YMC100 at the beginning of a period\n",
    "YMC100_0 = 5.0 + (5.0 * climat)\n",
    "\n",
    "arr_mc100_ui_rh = np.ndarray(shape=(len(julians)),dtype='float')\n",
    "\n",
    "for day in np.arange(len(julians)):\n",
    "    if day == 0:\n",
    "        YMC100 = YMC100_0\n",
    "    else: \n",
    "        YMC100 = arr_mc100[day-1]\n",
    "    arr_mc100_ui_rh[day] = YMC100 + (np.float(bndryh.values[0,day]) - YMC100) * (1.0 - (0.87 * np.exp(-0.24) ) )"
   ]
  },
  {
   "cell_type": "markdown",
   "metadata": {},
   "source": [
    "CONCATENATE UI METDATA FILES"
   ]
  },
  {
   "cell_type": "code",
   "execution_count": 53,
   "metadata": {
    "collapsed": false
   },
   "outputs": [],
   "source": [
    "lat = 48.03125\n",
    "lon = -121.28125\n",
    "\n",
    "direc = '/raid/gergel/dfm_ui_metdata' \n",
    "file = \"fm100_1981.nc\" \n",
    "ds = xray.open_dataset(os.path.join(direc,file)) \n",
    "\n",
    "file2 = \"fm100_1982.nc\" \n",
    "ds2 = xray.open_dataset(os.path.join(direc,file2))\n",
    "                        \n",
    "## concatenate netcdf files \n",
    "ds_full = xray.concat([ds, ds2], dim='day')\n",
    "                        \n",
    "                        "
   ]
  },
  {
   "cell_type": "markdown",
   "metadata": {},
   "source": [
    "PLOT UI METDATA AND IS SIMULATIONS DFM FOR COMPARISON"
   ]
  },
  {
   "cell_type": "code",
   "execution_count": 56,
   "metadata": {
    "collapsed": false
   },
   "outputs": [
    {
     "name": "stdout",
     "output_type": "stream",
     "text": [
      "saving figure to '/raid9/gergel/agg_snowpack/dfm_comparison_one_gridcell'\n"
     ]
    },
    {
     "data": {
      "image/png": "[encoded data removed]",
      "text/plain": [
       "<matplotlib.figure.Figure at 0x2b6eed718fd0>"
      ]
     },
     "metadata": {},
     "output_type": "display_data"
    }
   ],
   "source": [
    "import datetime as dt\n",
    "import matplotlib.pyplot as plt\n",
    "base = dt.datetime(1950, 1, 1)\n",
    "end_date = dt.datetime(2006, 1, 1)\n",
    "tp_start = dt.datetime(1981,10,1)\n",
    "tp_end = dt.datetime(1982,10,1)\n",
    "arr_dates = [base + dt.timedelta(days=i) for i in range(0, (end_date-base).days)]\n",
    "arr_datess = np.asarray(arr_dates)\n",
    "date_range = [tp_start + dt.timedelta(days=i) for i in range(0, (tp_end-tp_start).days)]\n",
    "\n",
    "ui_start = dt.datetime(1980,12,31)\n",
    "ui_end = dt.datetime(1982,12,31)\n",
    "arr_ui = [ui_start + dt.timedelta(days=i) for i in range(0, (ui_end-ui_start).days)]\n",
    "dates_ui = np.asarray(arr_ui)\n",
    "\n",
    "lon_ind = np.argmin(np.abs(ds.lon - lon))\n",
    "lat_ind = np.argmin(np.abs(ds.lat - lat))\n",
    "\n",
    "lw = 3.0\n",
    "\n",
    "dfm = ds_full.isel_points(lon=[lon_ind],lat=[lat_ind])\n",
    "dfm_sel = dfm.sel(day=slice('1981-10-01', '1982-9-30'))\n",
    "dfm_sel['dead_fuel_moistue_100hr'].plot(label='UI MetData DFM',linewidth=lw)\n",
    "\n",
    "plt.plot(date_range,np.asarray(arr_mc100)[(arr_datess >= tp_start) * (arr_datess < tp_end)],color='r',\n",
    "         label='NFDRS/IS Data',linewidth=lw)\n",
    "\n",
    "plt.plot(date_range,np.asarray(arr_mc100_ui)[(dates_ui >= tp_start) * (dates_ui < tp_end)],color='k',\n",
    "         label='NFDRS/UI Metdata',linewidth=lw)\n",
    "\n",
    "plt.plot(date_range,np.asarray(arr_mc100_ui_rh)[(dates_ui >= tp_start) * (dates_ui < tp_end)],color='m',\n",
    "         label='NFDRS/UI Metdata with RH',linewidth=lw)\n",
    "\n",
    "plt.legend(loc='upper right',bbox_to_anchor=(1.1, 1.05))\n",
    "\n",
    "## save plot\n",
    "direc = '/raid9/gergel/agg_snowpack/'\n",
    "plotname = 'dfm_comparison_one_gridcell' \n",
    "savepath = os.path.join(direc, plotname)\n",
    "print (\"saving figure to '%s'\" % savepath)\n",
    "plt.savefig(savepath)"
   ]
  },
  {
   "cell_type": "code",
   "execution_count": 61,
   "metadata": {
    "collapsed": false
   },
   "outputs": [
    {
     "name": "stdout",
     "output_type": "stream",
     "text": [
      "the correlation between nfdrs ui and ui dfm is 0.651\n",
      "the correlation between ui nfdrs and is nfdrs is 0.612\n",
      "the correlation between is nfdrs and ui dfm is 0.387\n",
      "the correlation between nfdrs ui rh and ui dfm is 0.725\n"
     ]
    }
   ],
   "source": [
    "nfdrs_ui = np.asarray(arr_mc100_ui)[(dates_ui >= tp_start) * (dates_ui < tp_end)]\n",
    "dfm_ui = dfm_sel['dead_fuel_moistue_100hr']\n",
    "nfdrs_is = np.asarray(arr_mc100)[(arr_datess >= tp_start) * (arr_datess < tp_end)]\n",
    "nfdrs_ui_rh = np.asarray(arr_mc100_ui_rh)[(dates_ui >= tp_start) * (dates_ui < tp_end)]\n",
    "print('the correlation between nfdrs ui and ui dfm is %.3f' %np.corrcoef(nfdrs_ui,dfm_ui)[0,1])\n",
    "print('the correlation between ui nfdrs and is nfdrs is %.3f' %np.corrcoef(nfdrs_ui,nfdrs_is)[0,1])\n",
    "print('the correlation between is nfdrs and ui dfm is %.3f' %np.corrcoef(nfdrs_is,dfm_ui)[0,1])\n",
    "print('the correlation between nfdrs ui rh and ui dfm is %.3f' %np.corrcoef(nfdrs_ui_rh,dfm_ui)[0,1])"
   ]
  },
  {
   "cell_type": "code",
   "execution_count": 57,
   "metadata": {
    "collapsed": false
   },
   "outputs": [
    {
     "data": {
      "text/plain": [
       "2"
      ]
     },
     "execution_count": 57,
     "metadata": {},
     "output_type": "execute_result"
    }
   ],
   "source": [
    "climat"
   ]
  },
  {
   "cell_type": "code",
   "execution_count": null,
   "metadata": {
    "collapsed": true
   },
   "outputs": [],
   "source": []
  },
  {
   "cell_type": "code",
   "execution_count": null,
   "metadata": {
    "collapsed": true
   },
   "outputs": [],
   "source": []
  }
 ],
 "metadata": {
  "kernelspec": {
   "display_name": "Python 2",
   "language": "python",
   "name": "python2"
  },
  "language_info": {
   "codemirror_mode": {
    "name": "ipython",
    "version": 2
   },
   "file_extension": ".py",
   "mimetype": "text/x-python",
   "name": "python",
   "nbconvert_exporter": "python",
   "pygments_lexer": "ipython2",
   "version": "2.7.11"
  }
 },
 "nbformat": 4,
 "nbformat_minor": 0
}
