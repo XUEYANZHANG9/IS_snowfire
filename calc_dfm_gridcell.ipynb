{
 "cells": [
  {
   "cell_type": "code",
   "execution_count": 53,
   "metadata": {
    "collapsed": true
   },
   "outputs": [],
   "source": [
    "%matplotlib inline\n",
    "def estimate_relative_humidity(q,t_avg,lat,lon):\n",
    "    ## estimates relative humidity using hypsometric equation for pressure, virtual temperature and \n",
    "    ## average temperature \n",
    "    import numpy as np\n",
    "    from xray import ufuncs\n",
    "    import math \n",
    "    from snowpack_functions import get_elev_for_lat_lon,import_gridcell_elevation \n",
    "    #################### CONSTANTS ###############################\n",
    "    Rd = 287.04 ## J kg^-1 K ^-1\n",
    "    p1 = 100000 ## Pa\n",
    "    T0 = 273.15 ## Kelvin, reference temperature\n",
    "    g = 9.81 ## m / s^2\n",
    "    \n",
    "    ## need to get elevations for grid cells\n",
    "    soil_file = '/raid9/gergel/agg_snowpack/soil_avail.txt'\n",
    "    elev_corr_info = import_gridcell_elevation(soil_file) \n",
    "    h = get_elev_for_lat_lon(elev_corr_info,lat,lon)\n",
    "    \n",
    "    ##  Tv = T(1 + 0.61w)\n",
    "    w = q ## approximating the mixing ratio as the specific humidity\n",
    "    Tv = t_avg * (1 + 0.61*w) \n",
    "    ## p = e ^ (-(((z_2 - z_1) * g)/ (Rd*Tv) - ln(p1)))\n",
    "    hg = h * g\n",
    "    RdTv = Rd * Tv\n",
    "    \n",
    "    #p = ufuncs.exp(-((hg/RdTv) - math.log(p1)))\n",
    "    p = 101325 * (1 - ((2.25577 * 10**-5) * h))**5.25588 \n",
    "    print(p)\n",
    "    print(h)\n",
    "    ## RH = 0.263*p*q[exp(17.67*T - T0)/(T - 29.65)]^-1\n",
    "    \n",
    "    ## using C-C relationship\n",
    "    e_s = 611 * ufuncs.exp((17.67 * (t_avg - T0)) / (t_avg - 29.65) )\n",
    "    w_s = 0.622 * (e_s / p)\n",
    "    RH = 100.0 * (w / w_s)\n",
    "    \n",
    "    # RH = 0.263 * p * q * ((ufuncs.exp((17.67 * (t_avg - T0)) / (t_avg - 29.65)))**-1)\n",
    "    \n",
    "    return (RH)\n",
    "\n",
    "def estimate_emc(RH,t):\n",
    "    if RH < 10: \n",
    "        EMC = 0.03229 + (0.281073 * RH) - (0.000578 * t * RH)\n",
    "    elif RH >= 10 and RH <= 50:\n",
    "        EMC = 2.22749 - 0.160107*RH - 0.014784*t\n",
    "    else: \n",
    "        EMC = 21.0606 + (0.005565*(RH**2)) - (0.00035*RH*t) - (0.483199*RH)\n",
    "    return(EMC)\n",
    "\n",
    "def nfdrs_climate_class(lon):\n",
    "    ## use eastern boundary of the Cascades to delineate (this might need refinement)\n",
    "    if lon > -122.5:\n",
    "        climate_class = 2\n",
    "        wetrat = 0.25\n",
    "    else:\n",
    "        climate_class = 3\n",
    "        wetrat = 0.05\n",
    "    return(climate_class,wetrat)\n"
   ]
  },
  {
   "cell_type": "code",
   "execution_count": 54,
   "metadata": {
    "collapsed": false
   },
   "outputs": [
    {
     "name": "stdout",
     "output_type": "stream",
     "text": [
      "The autoreload extension is already loaded. To reload it, use:\n",
      "  %reload_ext autoreload\n",
      "sanity check\n"
     ]
    }
   ],
   "source": [
    "## note this forcing data is for the entire CONUS so i need to mask out what isn't in the CRB \n",
    "## note: for masking, ufunc functions can be used directly on a DataArray\n",
    "%load_ext autoreload\n",
    "################################# INPUTS #############################\n",
    "lat = 48.03125\n",
    "lon = -121.28125\n",
    "######################################################################\n",
    "import numpy as np\n",
    "import xray\n",
    "from xray import ufuncs\n",
    "import os\n",
    "import math \n",
    "import gc \n",
    "import pandas as pd \n",
    "# from dfm_functions import estimate_emc, nfdrs_climate_class,estimate_relative_humidity\n",
    "basin = \"cascades\"\n",
    "model = \"CCSM4\"\n",
    "scenario = \"historical\"\n",
    "\n",
    "direc = '/raid/gergel/%s' % \"tmin\"\n",
    "tmin_file = \"%s_%s_%s.nc\" % (model,scenario,\"tasmin\")\n",
    "tmin_full = xray.open_dataset(os.path.join(direc,tmin_file)) ## load tmin\n",
    "\n",
    "direc = '/raid/gergel/%s' % \"tmax\"\n",
    "tmax_file = \"%s_%s_%s.nc\" % (model,scenario,\"tasmax\")\n",
    "tmax_full = xray.open_dataset(os.path.join(direc,tmax_file)) ## load tmax\n",
    "\n",
    "direc = '/raid/gergel/%s' % \"rh\"\n",
    "sh_file = \"%s_%s_%s.nc\" % (model,scenario,\"huss\")\n",
    "q_full = xray.open_dataset(os.path.join(direc,sh_file)) ## load specific humidity \n",
    "\n",
    "direc = '/raid/gergel/%s' % \"precip\"\n",
    "pr_file = \"%s_%s_%s.nc\" % (model,scenario,\"pr\")\n",
    "pr_full = xray.open_dataset(os.path.join(direc,pr_file)) ## load precip\n",
    "\n",
    "## adjust lat/lon dimensions since the index names are different\n",
    "tmin_lons_new = tmin_full['lon'].values[tmin_full['lon'].values > 180] - 360 \n",
    "tmin_full['lon'] = tmin_lons_new\n",
    "tmax_full['lon'] = tmin_lons_new\n",
    "q_full['lon'] = tmin_lons_new \n",
    "pr_full['lon'] = tmin_lons_new\n",
    "\n",
    "## select out gridcell \n",
    "lon_ind = np.where(np.asarray(tmin_full.lon).astype('|S10') == np.str(lon))[0][0]\n",
    "lat_ind = np.where(np.asarray(tmin_full.lat).astype('|S8') == np.str(lat))[0][0]\n",
    "\n",
    "## get julian days \n",
    "julians = pd.DatetimeIndex(np.asarray(pr_full.time)).dayofyear\n",
    "\n",
    "# tmin = tmin_full[:,lat_ind,lon_ind]\n",
    "tmin = tmin_full.isel_points(lon=[lon_ind],lat=[lat_ind])\n",
    "tmax = tmax_full.isel_points(lon=[lon_ind],lat=[lat_ind])\n",
    "q = q_full.isel_points(lon=[lon_ind],lat=[lat_ind])\n",
    "pptamt = pr_full.isel_points(lon=[lon_ind],lat=[lat_ind])\n",
    "\n",
    "\n",
    "del tmin_full,tmax_full, q_full,pr_full\n",
    "gc.collect() \n",
    "\n",
    "print(\"sanity check\")"
   ]
  },
  {
   "cell_type": "code",
   "execution_count": 55,
   "metadata": {
    "collapsed": false
   },
   "outputs": [
    {
     "name": "stdout",
     "output_type": "stream",
     "text": [
      "87140.4337962\n",
      "1253.95\n"
     ]
    }
   ],
   "source": [
    "## relative humidity \n",
    "t_avg = (tmin.air_temp_min + tmax.air_temp_max)/2.0\n",
    "RH = estimate_relative_humidity(q,t_avg,lat,lon)\n",
    "\n",
    "## estimate vapor pressures\n",
    "satvpd = ufuncs.exp(1.81 + (((t_avg * 17.27) - 4717.31)/(t_avg - 35.86)))\n",
    "satvpx = ufuncs.exp(1.81 + (((tmax.air_temp_max * 17.27) - \n",
    "                         4717.31)/(tmax.air_temp_max - 35.86)))\n",
    "satvpn = ufuncs.exp(1.81 + (((tmin.air_temp_min * 17.27) - \n",
    "                         4717.31)/(tmin.air_temp_min - 35.86)))\n",
    "ambvp = (RH * satvpd) * (1.0/100.0)\n",
    "RHmax = 100.0 * (ambvp/satvpn)\n",
    "RHmin = 100.0 * (ambvp/satvpx)\n",
    "\n",
    "## get climate class and rainfall rate \n",
    "climat,wetrat = nfdrs_climate_class(lon)\n",
    "pptamt_in = pptamt * 0.0393701 ## convert from mm to inches \n",
    "pptdur = np.round((pptamt/wetrat) + 0.49)\n",
    "#print(pptdur)\n",
    "\n",
    "## convert temps to Fahrenheit (this is required for EMC calculations developed by Simard 1968)\n",
    "# ºF =(K - 273.15)* 1.8000 + 32.00\n",
    "tmin['air_temp_min'].values = ((tmin.air_temp_min.values - 273.15) * 1.8) + 32.0\n",
    "tmax['air_temp_max'].values = ((tmax.air_temp_max.values - 273.15) * 1.8) + 32.0\n",
    "t_avg.values = ((t_avg.values - 273.15) * 1.8) + 32.0\n",
    "\n",
    "## estimate EMCs\n",
    "EMCmin = estimate_emc(RHmin,tmax.air_temp_max)\n",
    "EMC = estimate_emc(RH,t_avg)\n",
    "EMCmax = estimate_emc(RHmax,tmin.air_temp_min)\n",
    "\n",
    "phi = lat * 0.01745 ## lat is in degrees \n",
    "decl = 0.41008*np.sin((julians-82) * 0.01745)\n",
    "daylit = 24 * (1.0 - ((np.arccos(np.tan(np.deg2rad(phi)) * np.tan(decl))) / math.pi))\n",
    "\n",
    "EMCbar = ((daylit * EMCmin) + (24 - daylit) * EMCmax) / 24.0 \n",
    "\n",
    "bndryh = ((24.0 - pptdur.precipitation) * (EMCbar.specific_humidity + pptdur.precipitation) * \n",
    "          (0.5 * pptdur.precipitation + 41.0 ))/24.0 \n",
    "\n",
    "################################################ calculate 100-hr timelag ######################################## \n",
    "\n",
    "## to initialize YMC100 at the beginning of a period\n",
    "YMC100_0 = 5.0 + (5.0 * climat)\n",
    "\n",
    "arr_mc100 = np.ndarray(shape=(1,len(julians)),dtype='float')\n",
    "\n",
    "for day in np.arange(len(julians)):\n",
    "    if day == 0:\n",
    "        YMC100 = YMC100_0\n",
    "    else: \n",
    "        YMC100 = arr_mc100[0,day-1]\n",
    "    arr_mc100[0,day] = YMC100 + (np.float(bndryh[0,day]) - YMC100) * (1.0 - (0.87 * np.exp(-0.24) ) )"
   ]
  },
  {
   "cell_type": "code",
   "execution_count": 56,
   "metadata": {
    "collapsed": false
   },
   "outputs": [],
   "source": [
    "# EMCbar"
   ]
  },
  {
   "cell_type": "code",
   "execution_count": 57,
   "metadata": {
    "collapsed": false
   },
   "outputs": [
    {
     "name": "stdout",
     "output_type": "stream",
     "text": [
      "-772720.670164\n",
      "860.34522506\n",
      "-9737.37337781\n",
      "32834.2739965\n"
     ]
    }
   ],
   "source": [
    "print(np.min(arr_mc100))\n",
    "print(np.max(arr_mc100))\n",
    "print(np.mean(arr_mc100))\n",
    "print(np.std(arr_mc100))"
   ]
  },
  {
   "cell_type": "code",
   "execution_count": 64,
   "metadata": {
    "collapsed": false
   },
   "outputs": [
    {
     "name": "stdout",
     "output_type": "stream",
     "text": [
      "saving figure to '/raid9/gergel/agg_snowpack/dfm_gridcell'\n"
     ]
    },
    {
     "data": {
      "image/png": "[encoded data removed]",
      "text/plain": [
       "<matplotlib.figure.Figure at 0x2b42e768ea90>"
      ]
     },
     "metadata": {},
     "output_type": "display_data"
    }
   ],
   "source": [
    "import matplotlib.pyplot as plt\n",
    "'''ds_dfm = xray.DataArray(arr_mc100)\n",
    "ds_dfm.time = tmin['time'].values\n",
    "dfm_sel = ds_dfm.sel(time=slice('1981-02-01', '1981-06-01'))\n",
    "dfm_sel['dead_fuel_moistue_100hr'].plot()'''\n",
    "f = 10958 + 366\n",
    "l = 10958 + 366 + 364\n",
    "plt.plot(np.asarray(arr_mc100)[0,0:10])\n",
    "\n",
    "## save plot\n",
    "direc = '/raid9/gergel/agg_snowpack/'\n",
    "plotname = 'dfm_gridcell' \n",
    "savepath = os.path.join(direc, plotname)\n",
    "print (\"saving figure to '%s'\" % savepath)\n",
    "plt.savefig(savepath)"
   ]
  },
  {
   "cell_type": "code",
   "execution_count": 59,
   "metadata": {
    "collapsed": false
   },
   "outputs": [
    {
     "data": {
      "text/plain": [
       "array([ -2.26111155e+05,  -1.54808823e+05,  -1.12133680e+05,\n",
       "        -8.19833594e+04,  -8.01146114e+04,  -5.45711129e+04,\n",
       "        -3.72105743e+04,  -4.25707094e+04,  -5.02227929e+04,\n",
       "        -3.66464258e+04,  -2.89659711e+04,  -2.60482739e+04,\n",
       "        -2.60131585e+04,  -3.21251114e+04,  -2.37954300e+04,\n",
       "        -1.60491490e+04,  -1.19471851e+04,  -8.78282614e+03,\n",
       "        -5.77440337e+03,  -3.69465904e+03,  -8.31946315e+03,\n",
       "        -6.93088364e+03,  -1.06137286e+04,  -8.42310951e+03,\n",
       "        -7.90739283e+03,  -5.94970775e+03,  -9.18814886e+03,\n",
       "        -1.43367801e+04,  -1.05921326e+04,  -7.19165385e+03,\n",
       "        -4.68100452e+03,  -2.94502418e+03,  -1.76720692e+03,\n",
       "        -9.89316059e+02,  -1.28087919e+03,  -5.85784197e+02,\n",
       "        -6.74616274e+02,  -6.40596802e+03,  -1.83937406e+04,\n",
       "        -1.28996629e+04,  -1.04808951e+04,  -7.11744170e+03,\n",
       "        -4.72477030e+03,  -3.05843386e+03,  -1.82748794e+03,\n",
       "        -1.51592788e+03,  -7.83671168e+02,  -5.39860936e+03,\n",
       "        -7.00167357e+03,  -5.71340014e+03,  -1.10945326e+04,\n",
       "        -1.84452593e+04,  -2.84312015e+04,  -2.05663858e+04,\n",
       "        -2.05864668e+04,  -1.38135330e+04,  -1.07394142e+04,\n",
       "        -8.72138686e+03,  -6.14492603e+03,  -4.14552432e+03,\n",
       "        -3.96411738e+03,  -3.07636112e+03,  -4.39224343e+03,\n",
       "        -1.85988381e+04,  -1.73769048e+04,  -3.34488727e+04,\n",
       "        -2.32554191e+04,  -1.62370660e+04,  -1.63989867e+04,\n",
       "        -1.26871195e+04,  -1.31042102e+04,  -8.75332830e+03,\n",
       "        -9.26660224e+03,  -1.28266377e+04,  -8.95828874e+03,\n",
       "        -7.22013720e+03,  -6.29402061e+03,  -4.24784497e+03,\n",
       "        -4.88597516e+03,  -1.40136903e+04,  -2.50130048e+04,\n",
       "        -1.68301785e+04,  -1.17855481e+04,  -7.94232619e+03,\n",
       "        -5.35668098e+03,  -3.59074764e+03,  -2.23041879e+03,\n",
       "        -1.34141264e+03,  -6.79134822e+02,  -2.66912925e+02,\n",
       "        -1.49925129e+03,  -7.99588472e+02,  -5.20266965e+02,\n",
       "        -5.79251757e+02,  -5.45817338e+03,  -3.67625945e+03,\n",
       "        -3.89113735e+03,  -2.42031486e+03,  -1.38489738e+03,\n",
       "        -7.12425221e+02,  -2.49089199e+02,   6.59925350e+01,\n",
       "        -2.15296774e+02,  -1.79367975e+02,  -5.39133204e+02,\n",
       "        -1.01898683e+02,   1.45989829e+02,  -1.02011935e+03,\n",
       "        -1.33651578e+04,  -8.87083729e+03,  -5.80394142e+03,\n",
       "        -3.76994716e+03,  -2.35390849e+03,  -1.41109612e+03,\n",
       "        -8.35060332e+02,  -3.42497821e+02,  -1.87548659e+03,\n",
       "        -1.04542242e+03,  -5.03407085e+02,  -7.46054026e+01,\n",
       "        -9.86299672e+02,  -4.19145411e+02,  -5.20097433e+01,\n",
       "         1.88036578e+02,   4.03506584e+02,   5.56491240e+02,\n",
       "         6.10816450e+02,   5.95474598e+02,   6.12175110e+02,\n",
       "         6.18394786e+02,   5.76912415e+02,   5.61630558e+02,\n",
       "         5.95833576e+02,   6.76423800e+02,   4.62921612e+02,\n",
       "        -9.66342589e+01,   1.78089202e+02,   3.32756732e+02,\n",
       "         4.28509424e+02,   4.42497936e+02,   5.80067746e+02,\n",
       "         5.27548701e+02,   6.41984228e+02,   6.80708051e+02,\n",
       "         6.99889062e+02,   6.64805253e+02,   6.74926486e+02,\n",
       "         6.47758117e+02,   6.43317299e+02,   6.63695955e+02,\n",
       "         6.40971735e+02,   6.82548667e+02,   6.07260668e+02,\n",
       "         5.46604553e+02,   5.69118286e+02,   5.70165924e+02,\n",
       "         5.77026021e+02,   4.97971157e+02,  -1.56853356e+02,\n",
       "        -7.10369402e+02,  -2.32798970e+02,   9.53741069e+01,\n",
       "         2.67492988e+02,  -2.17144545e+03,  -2.85541603e+03,\n",
       "        -1.68946735e+03,  -9.20787542e+02,  -4.45691833e+02,\n",
       "        -1.08548768e+02,   1.27889316e+02,   1.19225667e+02,\n",
       "        -4.61109988e+03,  -4.83689396e+03,  -3.07831894e+03,\n",
       "        -1.88801575e+03,  -1.10703254e+03,  -5.72474556e+02,\n",
       "        -1.76000153e+02,   1.37773757e+02,   3.49768612e+02,\n",
       "         4.90765125e+02,   5.84792846e+02,   6.42167089e+02,\n",
       "         6.57323391e+02,   6.51456112e+02,   6.57967899e+02,\n",
       "         7.06344492e+02,   7.25459519e+02,   6.58178198e+02,\n",
       "         6.80974515e+02,   7.27403374e+02,   7.51504762e+02,\n",
       "         7.75734452e+02,   7.94700746e+02,   8.01215247e+02,\n",
       "         7.83503069e+02,   7.25539299e+02,   6.54091685e+02,\n",
       "         5.84181317e+02,   6.15720998e+02,   6.52960861e+02,\n",
       "         6.85321311e+02,   6.44053910e+02,   6.29774703e+02,\n",
       "         6.37145768e+02,   6.72856383e+02,   6.89412295e+02,\n",
       "         6.92337903e+02,   6.63760712e+02,   6.74910904e+02,\n",
       "         6.66891552e+02,   6.74460313e+02,   6.90203296e+02,\n",
       "         6.91923794e+02,   7.20598268e+02,   7.24188003e+02,\n",
       "         7.14786888e+02,   6.98231232e+02,   6.28926167e+02,\n",
       "         5.88619588e+02,   6.33587243e+02,   6.54257070e+02,\n",
       "         6.03385914e+02,   6.21199479e+02,   6.32814701e+02,\n",
       "         6.58346225e+02,  -1.73894201e+03,  -9.21522927e+02,\n",
       "        -3.75546793e+02,  -2.49884356e+01,   1.76317932e+02,\n",
       "         2.97292662e+02,   3.95116404e+02,   4.48580791e+02,\n",
       "         4.38173859e+02,   3.96471186e+02,   3.80173844e+02,\n",
       "         3.89099108e+02,   3.82650264e+02,   4.58902245e+02,\n",
       "         1.76833161e+02,   3.92268763e+02,   4.73616021e+02,\n",
       "        -1.55049341e+01,  -1.06110534e+01,   2.38490122e+02,\n",
       "         3.52304043e+02,   5.07101685e+02,   5.31732914e+02,\n",
       "        -1.13722005e+03,  -2.48645126e+03,  -1.51493451e+03,\n",
       "        -3.05413789e+03,  -9.48089397e+03,  -6.52144181e+03,\n",
       "        -4.22957160e+03,  -1.11219673e+04,  -7.79577165e+03,\n",
       "        -5.08991082e+03,  -3.28194309e+03,  -2.07133255e+03,\n",
       "        -1.20478983e+03,  -6.02027564e+02,  -2.16265710e+02,\n",
       "         1.17794446e+01,   1.79768477e+02,   3.21962224e+02,\n",
       "         4.73968195e+02,  -1.97094529e+02,   1.38514947e+02,\n",
       "         3.17372449e+02,   4.17285569e+02,   1.53768006e+02,\n",
       "         2.33854010e+02,   4.29093247e+02,   4.85105982e+02,\n",
       "         5.36836001e+02,   5.76386742e+02,   4.47540725e+02,\n",
       "         5.47478549e+02,  -2.54024535e+03,  -1.47210117e+03,\n",
       "        -7.89071186e+02,  -2.89581886e+02,   3.55630704e+01,\n",
       "         2.64424204e+02,   4.22709463e+02,   5.30174917e+02,\n",
       "         4.17074548e+02,  -5.32962833e+03,  -3.74836701e+03,\n",
       "        -3.02346340e+03,  -1.86542392e+03,  -7.57065778e+03,\n",
       "        -6.79632426e+03,  -4.59655551e+03,  -3.61310225e+03,\n",
       "        -8.66561754e+03,  -2.23922390e+04,  -1.50873687e+04,\n",
       "        -1.27952140e+04,  -8.57846671e+03,  -6.27117940e+03,\n",
       "        -1.82291170e+04,  -3.94379979e+04,  -2.67973380e+04,\n",
       "        -1.80999567e+04,  -1.21372599e+04,  -8.05809848e+03,\n",
       "        -5.88271258e+03,  -1.02970105e+04,  -1.10482505e+04,\n",
       "        -7.29427392e+03,  -5.16367945e+03,  -3.27412443e+03,\n",
       "        -9.00690614e+03,  -6.10603240e+03,  -3.92303592e+03,\n",
       "        -2.43295560e+03,  -1.43573130e+03,  -8.39315570e+03,\n",
       "        -5.92509642e+03,  -1.61507471e+04,  -1.61770450e+04,\n",
       "        -1.16672213e+04,  -8.31922896e+03,  -5.47299457e+03,\n",
       "        -3.45700529e+03,  -2.39975004e+03,  -7.14626166e+03,\n",
       "        -4.77816713e+03,  -7.32713861e+03,  -6.06344904e+03,\n",
       "        -6.92474622e+03,  -1.20180143e+04,  -2.51631916e+04,\n",
       "        -2.03225348e+04,  -1.36984665e+04,  -1.22554311e+04,\n",
       "        -3.04758541e+05,  -2.12410527e+05,  -1.45138712e+05,\n",
       "        -9.91156890e+04,  -6.76214484e+04,  -5.04454146e+04,\n",
       "        -3.56828943e+04,  -2.51576507e+04,  -1.78107135e+04,\n",
       "        -1.32023679e+04,  -2.14737827e+04,  -1.44234075e+04,\n",
       "        -9.67492823e+03,  -1.86728509e+04,  -2.83071511e+04,\n",
       "        -7.54309008e+04,  -5.13535281e+04,  -3.48938355e+04,\n",
       "        -2.36610351e+04,  -1.59471898e+04,  -1.44863629e+04,\n",
       "        -9.83521034e+03,  -6.54525858e+03,  -4.51049449e+03,\n",
       "        -2.85618946e+03])"
      ]
     },
     "execution_count": 59,
     "metadata": {},
     "output_type": "execute_result"
    }
   ],
   "source": [
    "'''tmin['time'][10958 + 366]\n",
    "tmin['time'][10958 + 366 + 364]'''\n",
    "np.asarray(arr_mc100)[0,f:l]"
   ]
  },
  {
   "cell_type": "code",
   "execution_count": 62,
   "metadata": {
    "collapsed": false
   },
   "outputs": [
    {
     "data": {
      "text/plain": [
       "<xray.Dataset>\n",
       "Dimensions:            ()\n",
       "Coordinates:\n",
       "    *empty*\n",
       "Data variables:\n",
       "    specific_humidity  float64 67.27"
      ]
     },
     "execution_count": 62,
     "metadata": {},
     "output_type": "execute_result"
    }
   ],
   "source": [
    "np.mean(RH)"
   ]
  },
  {
   "cell_type": "code",
   "execution_count": null,
   "metadata": {
    "collapsed": true
   },
   "outputs": [],
   "source": []
  }
 ],
 "metadata": {
  "kernelspec": {
   "display_name": "Python 2",
   "language": "python",
   "name": "python2"
  },
  "language_info": {
   "codemirror_mode": {
    "name": "ipython",
    "version": 2
   },
   "file_extension": ".py",
   "mimetype": "text/x-python",
   "name": "python",
   "nbconvert_exporter": "python",
   "pygments_lexer": "ipython2",
   "version": "2.7.10"
  }
 },
 "nbformat": 4,
 "nbformat_minor": 0
}
