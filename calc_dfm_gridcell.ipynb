{
 "cells": [
  {
   "cell_type": "code",
   "execution_count": 3,
   "metadata": {
    "collapsed": false
   },
   "outputs": [
    {
     "data": {
      "text/plain": [
       "600"
      ]
     },
     "execution_count": 3,
     "metadata": {},
     "output_type": "execute_result"
    }
   ],
   "source": [
    "## note this forcing data is for the entire CONUS so i need to mask out what isn't in the CRB \n",
    "## note: for masking, ufunc functions can be used directly on a DataArray\n",
    "\n",
    "################################# INPUTS #############################\n",
    "lat = 48.03125\n",
    "lon = -121.28125\n",
    "######################################################################\n",
    "import numpy as np\n",
    "import xray\n",
    "import os\n",
    "import math \n",
    "import gc \n",
    "basin = \"cascades\"\n",
    "model = \"CCSM4\"\n",
    "scenario = \"historical\"\n",
    "\n",
    "direc = '/raid/gergel/%s' % \"tmin\"\n",
    "tmin_file = \"%s_%s_%s.nc\" % (model,scenario,\"tasmin\")\n",
    "tmin_full = xray.open_dataset(os.path.join(direc,tmin_file))\n",
    "\n",
    "direc = '/raid/gergel/%s' % \"tmax\"\n",
    "tmax_file = \"%s_%s_%s.nc\" % (model,scenario,\"tasmax\")\n",
    "tmax_full = xray.open_dataset(os.path.join(direc,tmax_file))\n",
    "\n",
    "direc = '/raid/gergel/%s' % \"rh\"\n",
    "sh_file = \"%s_%s_%s.nc\" % (model,scenario,\"huss\")\n",
    "q_full = xray.open_dataset(os.path.join(direc,sh_file))\n",
    "\n",
    "## adjust lat/lon dimensions since the index names are different\n",
    "tmin_lons_new = tmin_full['lon'].values[tmin_full['lon'].values > 180] - 360 \n",
    "tmin_full['lon'] = tmin_lons_new\n",
    "tmax_full['lon'] = tmin_lons_new\n",
    "q_full['lon'] = tmin_lons_new \n",
    "\n",
    "## select out gridcell \n",
    "lon_ind = np.where(np.asarray(tmin_full.lon).astype('|S10') == np.str(lon))[0][0]\n",
    "lat_ind = np.where(np.asarray(tmin_full.lat).astype('|S8') == np.str(lat))[0][0]\n",
    "\n",
    "# tmin = tmin_full[:,lat_ind,lon_ind]\n",
    "tmin = tmin_full.isel_points(lon=[lon_ind],lat=[lat_ind])\n",
    "tmax = tmax_full.isel_points(lon=[lon_ind],lat=[lat_ind])\n",
    "q = q_full.isel_points(lon=[lon_ind],lat=[lat_ind])\n",
    "\n",
    "del tmin_full,tmax_full, q_full \n",
    "gc.collect() "
   ]
  },
  {
   "cell_type": "code",
   "execution_count": null,
   "metadata": {
    "collapsed": false
   },
   "outputs": [],
   "source": [
    "## relative humidity \n",
    "RH = estimate_relative_humidity(q,t_avg,lat,lon)\n",
    "\n",
    "## estimate vapor pressures\n",
    "satvpd = np.exp(1.81 + (((t_avg * 17.27) - 4717.31)/(t_avg - 35.86)))\n",
    "satvpx = np.exp(1.81 + (((arr_tmin.air_temp_min * 17.27) - \n",
    "                         4717.31)/(arr_tmin.air_temp_min - 35.86)))\n",
    "satvpn = np.exp(1.81 + (((arr_tmax.air_temp_max * 17.27) - \n",
    "                         4717.31)/(arr_tmax.air_temp_max - 35.86)))\n",
    "ambvp = (RH * satvpd) * (1.0/100.0)\n",
    "RHmax = 100.0 * (ambvp/satvpn)\n",
    "RHmin = 100.0 * (ambvp/satvpx)\n",
    "\n",
    "pptdur = np.round((pptamt/wetrat) + 0.49)\n",
    "\n",
    "## estimate EMCs\n",
    "EMCmin = estimate_emc(RHmin,arr_tmin)\n",
    "EMC = estimate_emc(RH,t_avg)\n",
    "EMCmax = estimate_emc(RHmax,arr_tmax)\n",
    "\n",
    "phi = lat*0.01745 \n",
    "decl = 0.41008*np.sin((jdate-82)*0.01745)\n",
    "daylit = 24*(1-np.arccos(np.tan(phi)*np.tan(decl)))/math.pi\n",
    "\n",
    "EMCbar = ((daylit * EMCmin + 24 - daylit) * EMCmax)/24.0 \n",
    "\n",
    "bndryh = ((24.0 - pptdur) * (EMCbar + pptdur) * (0.5 * pptdur + 41.0 ))/24.0 \n",
    "\n",
    "## to initialize YMC100 at the beginning of a period\n",
    "YMC100_0 = 5.0 + (5.0 * climat)\n",
    "\n",
    "MC100 = YMC100 + (bndryh - YMC100) * (1.0 - 0.87*np.exp(-0.24)) ## ymc100 is the mc100 value of the previous day \n",
    "\n",
    "\n"
   ]
  },
  {
   "cell_type": "code",
   "execution_count": null,
   "metadata": {
    "collapsed": false
   },
   "outputs": [],
   "source": []
  },
  {
   "cell_type": "code",
   "execution_count": null,
   "metadata": {
    "collapsed": true
   },
   "outputs": [],
   "source": []
  }
 ],
 "metadata": {
  "kernelspec": {
   "display_name": "Python 2",
   "language": "python",
   "name": "python2"
  },
  "language_info": {
   "codemirror_mode": {
    "name": "ipython",
    "version": 2
   },
   "file_extension": ".py",
   "mimetype": "text/x-python",
   "name": "python",
   "nbconvert_exporter": "python",
   "pygments_lexer": "ipython2",
   "version": "2.7.10"
  }
 },
 "nbformat": 4,
 "nbformat_minor": 0
}
