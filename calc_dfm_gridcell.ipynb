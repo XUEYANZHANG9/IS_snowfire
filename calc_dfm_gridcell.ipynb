{
 "cells": [
  {
   "cell_type": "code",
   "execution_count": 73,
   "metadata": {
    "collapsed": true
   },
   "outputs": [],
   "source": [
    "%matplotlib inline\n",
    "\n",
    "def estimate__e_s(T): \n",
    "    from xray import ufuncs\n",
    "    T0 = 273.15 ## Kelvin, reference temperature\n",
    "    e_s = 611 * ufuncs.exp((17.67 * (T - T0)) / (T - 29.65) )\n",
    "    return(e_s)\n",
    "\n",
    "def estimate_p(h):\n",
    "    p = 101325 * (1 - ((2.25577 * 10**-5) * h))**5.25588 ## Pascals \n",
    "    return(p)\n",
    "\n",
    "def estimate_relative_humidity(q,e_s,p):\n",
    "    ## estimates relative humidity using hypsometric equation for pressure, virtual temperature and \n",
    "    ## average temperature \n",
    "    import numpy as np\n",
    "    w = q ## approximating the mixing ratio as the specific humidity\n",
    "    w_s = 0.622 * (e_s / p)\n",
    "    RH = 100.0 * (w / w_s)\n",
    "    return (RH)\n",
    "\n",
    "def estimate_emc(RH,T):\n",
    "    if RH < 10: \n",
    "        EMC = 0.03229 + (0.281073 * RH) - (0.000578 * T * RH)\n",
    "    elif RH >= 10 and RH <= 50:\n",
    "        EMC = 2.22749 - 0.160107*RH - 0.014784*T\n",
    "    else: \n",
    "        EMC = 21.0606 + (0.005565*(RH**2)) - (0.00035*RH*T) - (0.483199*RH)\n",
    "    return(EMC)\n",
    "\n",
    "def nfdrs_climate_class(lon):\n",
    "    ## use eastern boundary of the Cascades to delineate (this might need refinement)\n",
    "    if lon > -122.5:\n",
    "        climate_class = 2\n",
    "        wetrat = 0.25\n",
    "    else:\n",
    "        climate_class = 3\n",
    "        wetrat = 0.05\n",
    "    return(climate_class,wetrat)\n"
   ]
  },
  {
   "cell_type": "code",
   "execution_count": 74,
   "metadata": {
    "collapsed": false
   },
   "outputs": [
    {
     "name": "stdout",
     "output_type": "stream",
     "text": [
      "The autoreload extension is already loaded. To reload it, use:\n",
      "  %reload_ext autoreload\n"
     ]
    },
    {
     "data": {
      "text/plain": [
       "11072"
      ]
     },
     "execution_count": 74,
     "metadata": {},
     "output_type": "execute_result"
    }
   ],
   "source": [
    "## note this forcing data is for the entire CONUS so i need to mask out what isn't in the CRB \n",
    "## note: for masking, ufunc functions can be used directly on a DataArray\n",
    "%load_ext autoreload\n",
    "################################# INPUTS #############################\n",
    "lat = 48.03125\n",
    "lon = -121.28125\n",
    "######################################################################\n",
    "import numpy as np\n",
    "import xray\n",
    "from xray import ufuncs\n",
    "import os\n",
    "import math \n",
    "import gc \n",
    "import pandas as pd \n",
    "# from dfm_functions import estimate_emc, nfdrs_climate_class,estimate_relative_humidity\n",
    "basin = \"cascades\"\n",
    "model = \"CCSM4\"\n",
    "scenario = \"historical\"\n",
    "\n",
    "direc = '/raid/gergel/%s' % \"tmin\"\n",
    "tmin_file = \"%s_%s_%s.nc\" % (model,scenario,\"tasmin\")\n",
    "tmin_full = xray.open_dataset(os.path.join(direc,tmin_file)) ## load tmin\n",
    "\n",
    "direc = '/raid/gergel/%s' % \"tmax\"\n",
    "tmax_file = \"%s_%s_%s.nc\" % (model,scenario,\"tasmax\")\n",
    "tmax_full = xray.open_dataset(os.path.join(direc,tmax_file)) ## load tmax\n",
    "\n",
    "direc = '/raid/gergel/%s' % \"rh\"\n",
    "sh_file = \"%s_%s_%s.nc\" % (model,scenario,\"huss\")\n",
    "q_full = xray.open_dataset(os.path.join(direc,sh_file)) ## load specific humidity \n",
    "\n",
    "direc = '/raid/gergel/%s' % \"precip\"\n",
    "pr_file = \"%s_%s_%s.nc\" % (model,scenario,\"pr\")\n",
    "pr_full = xray.open_dataset(os.path.join(direc,pr_file)) ## load precip\n",
    "\n",
    "## adjust lat/lon dimensions since the index names are different\n",
    "tmin_lons_new = tmin_full['lon'].values[tmin_full['lon'].values > 180] - 360 \n",
    "tmin_full['lon'] = tmin_lons_new\n",
    "tmax_full['lon'] = tmin_lons_new\n",
    "q_full['lon'] = tmin_lons_new \n",
    "pr_full['lon'] = tmin_lons_new\n",
    "\n",
    "## select out gridcell \n",
    "lon_ind = np.where(np.asarray(tmin_full.lon).astype('|S10') == np.str(lon))[0][0]\n",
    "lat_ind = np.where(np.asarray(tmin_full.lat).astype('|S8') == np.str(lat))[0][0]\n",
    "\n",
    "## get julian days \n",
    "julians = pd.DatetimeIndex(np.asarray(pr_full.time)).dayofyear\n",
    "\n",
    "# tmin = tmin_full[:,lat_ind,lon_ind]\n",
    "tmin = tmin_full.isel_points(lon=[lon_ind],lat=[lat_ind])\n",
    "tmax = tmax_full.isel_points(lon=[lon_ind],lat=[lat_ind])\n",
    "q = q_full.isel_points(lon=[lon_ind],lat=[lat_ind])\n",
    "pptamt = pr_full.isel_points(lon=[lon_ind],lat=[lat_ind])\n",
    "\n",
    "\n",
    "del tmin_full,tmax_full, q_full,pr_full\n",
    "gc.collect() "
   ]
  },
  {
   "cell_type": "code",
   "execution_count": 75,
   "metadata": {
    "collapsed": false
   },
   "outputs": [],
   "source": [
    "t_avg = (tmin.air_temp_min + tmax.air_temp_max)/2.0\n",
    "\n",
    "## get elevation of grid cell\n",
    "from snowpack_functions import get_elev_for_lat_lon,import_gridcell_elevation \n",
    "soil_file = '/raid9/gergel/agg_snowpack/soil_avail.txt'\n",
    "elev_corr_info = import_gridcell_elevation(soil_file) \n",
    "h = get_elev_for_lat_lon(elev_corr_info,lat,lon)\n",
    "\n",
    "## get pressure \n",
    "p = estimate_p(h)\n",
    "\n",
    "## get sat vap pressure\n",
    "e_s = estimate__e_s(t_avg)\n",
    "#e_s = estimate__e_s(tmin.air_temp_min) ## try using minimum air temperature rather than average \n",
    "\n",
    "## estimate relative humidity\n",
    "RH = estimate_relative_humidity(q,e_s,p)\n",
    "\n",
    "## if RH > 100, RH = 100\n",
    "RH_new_vals = np.ndarray(shape=(1,len(RH.specific_humidity.values[0,:])),dtype='float')\n",
    "for val in np.arange(len(RH.specific_humidity.values[0,:])):\n",
    "    if RH.specific_humidity.values[0,val] > 100:\n",
    "        RH_new_vals[0,val] = 100\n",
    "    else:\n",
    "        RH_new_vals[0,val] = RH.specific_humidity.values[0,val]\n",
    "RH.specific_humidity.values = RH_new_vals\n",
    "\n",
    "## estimate vapor pressures\n",
    "satvpd = e_s ## this was already calculated\n",
    "satvpx = estimate__e_s(tmax.air_temp_max)\n",
    "satvpn = estimate__e_s(tmin.air_temp_min)\n",
    "\n",
    "ambvp = (RH * satvpd) / 100.0\n",
    "RHmax = 100.0 * (ambvp/satvpn)\n",
    "RHmin = 100.0 * (ambvp/satvpx)\n",
    "\n",
    "## if RHmax > 100, RHmax = 100\n",
    "RHmax_new_vals = np.ndarray(shape=(1,len(RHmax.specific_humidity.values[0,:])),dtype='float')\n",
    "for val in np.arange(len(RHmax.specific_humidity.values[0,:])):\n",
    "    if RHmax.specific_humidity.values[0,val] > 100:\n",
    "        RHmax_new_vals[0,val] = 100\n",
    "    else:\n",
    "        RHmax_new_vals[0,val] = RHmax.specific_humidity.values[0,val]\n",
    "RHmax.specific_humidity.values = RHmax_new_vals\n",
    "\n",
    "## get climate class and rainfall rate \n",
    "climat,wetrat = nfdrs_climate_class(lon)\n",
    "pptamt_in = pptamt * 0.0393701 ## convert from mm to inches \n",
    "pptdur = ufuncs.rint((pptamt_in/wetrat) + 0.49)\n",
    "\n",
    "## convert temps to Fahrenheit (this is required for EMC calculations developed by Simard 1968)\n",
    "# ºF =(K - 273.15)* 1.8000 + 32.00\n",
    "tmin['air_temp_min'].values = ((tmin.air_temp_min.values - 273.15) * 1.8) + 32.0\n",
    "tmax['air_temp_max'].values = ((tmax.air_temp_max.values - 273.15) * 1.8) + 32.0\n",
    "t_avg.values = ((t_avg.values - 273.15) * 1.8) + 32.0\n",
    "\n",
    "## estimate EMCs\n",
    "EMCmin = estimate_emc(RHmin,tmax.air_temp_max)\n",
    "#EMC = estimate_emc(RH,t_avg)\n",
    "EMC = estimate_emc(RH,tmin.air_temp_min)\n",
    "#EMC = EMCmin\n",
    "# EMCmin = EMC\n",
    "EMCmax = estimate_emc(RHmax,tmin.air_temp_min)\n",
    "# EMCMAX = 0.15\n",
    "\n",
    "phi = lat * 0.01745 ## lat is in degrees \n",
    "decl = 0.41008*np.sin((julians-82) * 0.01745)\n",
    "daylit = 24 * (1.0 - ((np.arccos(np.tan(np.deg2rad(phi)) * np.tan(decl))) / math.pi))\n",
    "\n",
    "EMCbar = ((daylit * EMCmin) + (24 - daylit) * EMCmax) / 24.0 \n",
    "\n",
    "'''bndryh = ((24.0 - pptdur.precipitation) * (EMCbar.specific_humidity + pptdur.precipitation) * \n",
    "          (0.5 * pptdur.precipitation + 41.0 ) )/ 24.0 '''\n",
    "\n",
    "bndryh = ( ( (24.0 - pptdur.precipitation) * EMCbar.specific_humidity) + pptdur.precipitation * \n",
    "          ( (0.5 * pptdur.precipitation) + 41.0 ) )/ 24.0 \n",
    "\n",
    "################################################ calculate 100-hr timelag ######################################## \n",
    "\n",
    "## to initialize YMC100 at the beginning of a period\n",
    "YMC100_0 = 5.0 + (5.0 * climat)\n",
    "\n",
    "arr_mc100 = np.ndarray(shape=(len(julians)),dtype='float')\n",
    "\n",
    "for day in np.arange(len(julians)):\n",
    "    if day == 0:\n",
    "        YMC100 = YMC100_0\n",
    "    else: \n",
    "        YMC100 = arr_mc100[day-1]\n",
    "    arr_mc100[day] = YMC100 + (np.float(bndryh.values[0,day]) - YMC100) * (1.0 - (0.87 * np.exp(-0.24) ) )"
   ]
  },
  {
   "cell_type": "code",
   "execution_count": 78,
   "metadata": {
    "collapsed": false
   },
   "outputs": [
    {
     "name": "stdout",
     "output_type": "stream",
     "text": [
      "[ 21.82107447  21.04857883  20.76245634]\n",
      "<xray.DataArray (time: 3)>\n",
      "array([ 20.17890179,  19.37363145,  20.14207731])\n",
      "Coordinates:\n",
      "    points   int64 0\n",
      "  * time     (time) datetime64[ns] 1950-01-08 1950-01-09 1950-01-10\n",
      "    lat      float64 48.03\n",
      "    lon      float64 -121.3\n"
     ]
    },
    {
     "data": {
      "text/plain": [
       "'print(EMCbar.specific_humidity.values[0,7:10])\\nprint(EMCmin.specific_humidity.values[0,7:10])\\nprint(EMCmax.specific_humidity.values[0,7:10])'"
      ]
     },
     "execution_count": 78,
     "metadata": {},
     "output_type": "execute_result"
    }
   ],
   "source": [
    "#print(np.max(arr_mc100))\n",
    "print(arr_mc100[7:10])\n",
    "print(bndryh[0,7:10])\n",
    "'''print(EMCbar.specific_humidity.values[0,7:10])\n",
    "print(EMCmin.specific_humidity.values[0,7:10])\n",
    "print(EMCmax.specific_humidity.values[0,7:10])'''"
   ]
  },
  {
   "cell_type": "code",
   "execution_count": 80,
   "metadata": {
    "collapsed": false
   },
   "outputs": [
    {
     "name": "stdout",
     "output_type": "stream",
     "text": [
      "saving figure to '/raid9/gergel/agg_snowpack/dfm_gridcell'\n"
     ]
    },
    {
     "data": {
      "image/png": "[encoded data removed]",
      "text/plain": [
       "<matplotlib.figure.Figure at 0x2ac660d33290>"
      ]
     },
     "metadata": {},
     "output_type": "display_data"
    }
   ],
   "source": [
    "import matplotlib.pyplot as plt\n",
    "'''ds_dfm = xray.DataArray(arr_mc100)\n",
    "ds_dfm.time = tmin['time'].values\n",
    "dfm_sel = ds_dfm.sel(time=slice('1981-02-01', '1981-06-01'))\n",
    "dfm_sel['dead_fuel_moistue_100hr'].plot()'''\n",
    "f = 10958 + 366\n",
    "l = 10958 + 366 + 364\n",
    "plt.plot(np.asarray(arr_mc100)[0:13])\n",
    "#plt.plot(np.asarray(arr_mc100)[:])\n",
    "\n",
    "## save plot\n",
    "direc = '/raid9/gergel/agg_snowpack/'\n",
    "plotname = 'dfm_gridcell' \n",
    "savepath = os.path.join(direc, plotname)\n",
    "print (\"saving figure to '%s'\" % savepath)\n",
    "plt.savefig(savepath)"
   ]
  },
  {
   "cell_type": "code",
   "execution_count": null,
   "metadata": {
    "collapsed": false
   },
   "outputs": [],
   "source": []
  },
  {
   "cell_type": "code",
   "execution_count": null,
   "metadata": {
    "collapsed": true
   },
   "outputs": [],
   "source": []
  },
  {
   "cell_type": "code",
   "execution_count": null,
   "metadata": {
    "collapsed": true
   },
   "outputs": [],
   "source": []
  }
 ],
 "metadata": {
  "kernelspec": {
   "display_name": "Python 2",
   "language": "python",
   "name": "python2"
  },
  "language_info": {
   "codemirror_mode": {
    "name": "ipython",
    "version": 2
   },
   "file_extension": ".py",
   "mimetype": "text/x-python",
   "name": "python",
   "nbconvert_exporter": "python",
   "pygments_lexer": "ipython2",
   "version": "2.7.11"
  }
 },
 "nbformat": 4,
 "nbformat_minor": 0
}
